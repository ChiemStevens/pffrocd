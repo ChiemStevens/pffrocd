{
 "cells": [
  {
   "cell_type": "code",
   "execution_count": 1,
   "id": "ee5450eb",
   "metadata": {},
   "outputs": [],
   "source": [
    "import pandas as pd\n",
    "import re"
   ]
  },
  {
   "cell_type": "code",
   "execution_count": 2,
   "id": "c1ede56c",
   "metadata": {},
   "outputs": [],
   "source": [
    "# import two datasets with confirmed bandwidth\n",
    "\n",
    "rpi_datetime = '2023-09-20_09-06-07'\n",
    "laptop_datetime = '2023-09-20_11-43-32'\n",
    "\n",
    "df_rpi = pd.read_csv(f'dfs/{rpi_datetime}.csv')\n",
    "df_laptop = pd.read_csv(f'dfs/{laptop_datetime}.csv')"
   ]
  },
  {
   "cell_type": "code",
   "execution_count": 3,
   "id": "068e887f",
   "metadata": {},
   "outputs": [
    {
     "name": "stdout",
     "output_type": "stream",
     "text": [
      "rpi_bandwith=56.81 Mbits/sec\n",
      "laptop_bandwith=17.79 Mbits/sec\n"
     ]
    }
   ],
   "source": [
    "with open(f'log/debug_{rpi_datetime}.log', 'r') as file:\n",
    "        rpi_bandwith = float(re.search(r\"Bandwidth:\\s+(\\d+\\.\\d+)\\s+Mbits/sec\", file.readlines()[27]).group(1))\n",
    "print(f'{rpi_bandwith=} Mbits/sec')\n",
    "\n",
    "with open(f'log/debug_{laptop_datetime}.log', 'r') as file:\n",
    "        laptop_bandwith = float(re.search(r\"Bandwidth:\\s+(\\d+\\.\\d+)\\s+Mbits/sec\", file.readlines()[27]).group(1))\n",
    "print(f'{laptop_bandwith=} Mbits/sec')"
   ]
  },
  {
   "cell_type": "code",
   "execution_count": 4,
   "id": "f7f82b1f",
   "metadata": {},
   "outputs": [
    {
     "name": "stdout",
     "output_type": "stream",
     "text": [
      "rpi_mbits_sent=222.09306738461538 Mbits, rpi_mbits_received=222.088944 Mbits\n",
      "laptop_mbits_sent=222.09305728 Mbits, laptop_mbits_received=222.088944 Mbits\n"
     ]
    }
   ],
   "source": [
    "# get the total bits sent and received\n",
    "# btw, client.total.sent == server.total.received and server.total.sent == client.total.received\n",
    "\n",
    "# ABY benchmarks are in bytes -> x8 to get bits -> div by million to get Mbits\n",
    "rpi_mbits_sent = (df_rpi['server.communication.total.sent'].mean() * 8) / 1e6\n",
    "rpi_mbits_received = (df_rpi['server.communication.total.received'].mean() * 8) / 1e6\n",
    "print(f\"{rpi_mbits_sent=} Mbits, {rpi_mbits_received=} Mbits\")\n",
    "\n",
    "laptop_mbits_sent = (df_laptop['server.communication.total.sent'].mean() * 8) / 1e6\n",
    "laptop_mbits_received = (df_laptop['server.communication.total.received'].mean() * 8) / 1e6\n",
    "print(f\"{laptop_mbits_sent=} Mbits, {laptop_mbits_received=} Mbits\")"
   ]
  },
  {
   "cell_type": "code",
   "execution_count": 5,
   "id": "e51f1bc8",
   "metadata": {
    "scrolled": true
   },
   "outputs": [
    {
     "name": "stdout",
     "output_type": "stream",
     "text": [
      "rpi_comm_time=7.818729297388055 sec\n",
      "laptop_comm_time=24.968072022484545 sec\n"
     ]
    }
   ],
   "source": [
    "# compute the time that it takes to send over data\n",
    "# communication time = total size sent and received / bandwidth\n",
    "\n",
    "rpi_comm_time = (rpi_mbits_received + rpi_mbits_sent) / rpi_bandwith\n",
    "print(f'{rpi_comm_time=} sec')\n",
    "\n",
    "laptop_comm_time = (laptop_mbits_received + laptop_mbits_sent) / laptop_bandwith\n",
    "print(f'{laptop_comm_time=} sec')"
   ]
  },
  {
   "cell_type": "code",
   "execution_count": 6,
   "id": "31700fe4",
   "metadata": {},
   "outputs": [
    {
     "data": {
      "text/plain": [
       "server.timings.total          41.463946\n",
       "server.timings.init            0.000643\n",
       "server.timings.circuitgen      0.000548\n",
       "server.timings.network         0.031972\n",
       "server.timings.baseots         1.678600\n",
       "server.timings.setup           9.155909\n",
       "server.timings.otextension     9.113954\n",
       "server.timings.garbling        0.000012\n",
       "server.timings.online         32.308025\n",
       "dtype: float64"
      ]
     },
     "execution_count": 6,
     "metadata": {},
     "output_type": "execute_result"
    }
   ],
   "source": [
    "# print ABY timings benchmarks for rpi (in seconds)\n",
    "timings_col = [col for col in df_rpi if col.startswith('server.timings')]\n",
    "df_rpi[timings_col].mean() / 1000"
   ]
  },
  {
   "cell_type": "code",
   "execution_count": 7,
   "id": "778aa698",
   "metadata": {},
   "outputs": [
    {
     "data": {
      "text/plain": [
       "server.timings.total          62.840146\n",
       "server.timings.init            0.000078\n",
       "server.timings.circuitgen      0.000100\n",
       "server.timings.network         0.217183\n",
       "server.timings.baseots         0.153283\n",
       "server.timings.setup          19.943892\n",
       "server.timings.otextension    19.942091\n",
       "server.timings.garbling        0.000001\n",
       "server.timings.online         42.896251\n",
       "dtype: float64"
      ]
     },
     "execution_count": 7,
     "metadata": {},
     "output_type": "execute_result"
    }
   ],
   "source": [
    "# print ABY timings benchmarks for laptop\n",
    "df_laptop[timings_col].mean() / 1000"
   ]
  }
 ],
 "metadata": {
  "kernelspec": {
   "display_name": "Python 3 (ipykernel)",
   "language": "python",
   "name": "python3"
  },
  "language_info": {
   "codemirror_mode": {
    "name": "ipython",
    "version": 3
   },
   "file_extension": ".py",
   "mimetype": "text/x-python",
   "name": "python",
   "nbconvert_exporter": "python",
   "pygments_lexer": "ipython3",
   "version": "3.10.12"
  }
 },
 "nbformat": 4,
 "nbformat_minor": 5
}
