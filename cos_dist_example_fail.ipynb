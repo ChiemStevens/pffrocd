{
 "cells": [
  {
   "cell_type": "code",
   "execution_count": 1,
   "metadata": {},
   "outputs": [],
   "source": [
    "import os\n",
    "os.environ['TF_CPP_MIN_LOG_LEVEL'] = '3' # suppress tensorflow warnings https://stackoverflow.com/a/40871012\n",
    "from deepface import DeepFace\n",
    "import subprocess\n",
    "import numpy as np\n",
    "from decimal import Decimal # for proper rounding\n",
    "import random\n",
    "import time\n",
    "import pandas as pd\n",
    "from datetime import datetime\n",
    "import struct\n",
    "\n",
    "\n",
    "# CONSTANTS\n",
    "EXECUTABLE_PATH = \"ABY/build/bin\"\n",
    "INPUT_FILE_NAME = \"input_vecs.txt\"\n",
    "EXECUTABLE_NAME_SCENARIO = 'cos_dist_copy'\n",
    "CMD_SCENARIO = f\"./{EXECUTABLE_NAME_SCENARIO} -r 1 -f {INPUT_FILE_NAME} & (./{EXECUTABLE_NAME_SCENARIO} -r 0 -f {INPUT_FILE_NAME} 2>&1 > /dev/null)\"\n",
    "\n",
    "# random number generator\n",
    "rng = np.random.default_rng()"
   ]
  },
  {
   "cell_type": "code",
   "execution_count": 12,
   "metadata": {},
   "outputs": [],
   "source": [
    "def run_sfe(x, y, y_0, y_1):\n",
    "    # write the original 2 vectors to a file (second vector used only for verification)\n",
    "    with open(f\"{EXECUTABLE_PATH}/{INPUT_FILE_NAME}\", 'w') as f:\n",
    "        for x_i, y_i in zip(x, y):\n",
    "            f.write(f\"{x_i} {y_i}\\n\")\n",
    "            \n",
    "    # write the shares into separate files\n",
    "    with open(f\"{EXECUTABLE_PATH}/share0.txt\", 'w') as f:\n",
    "        for i in y_0:\n",
    "            f.write(f\"{i}\\n\")\n",
    "    with open(f\"{EXECUTABLE_PATH}/share1.txt\", 'w') as f:\n",
    "        for i in y_1:\n",
    "            f.write(f\"{i}\\n\")\n",
    "            \n",
    "    # execute the ABY cos sim computation\n",
    "    output = subprocess.run(CMD_SCENARIO, shell=True, capture_output=True, text=True, cwd=EXECUTABLE_PATH)\n",
    "    assert (output.returncode == 0) # make sure the process executed successfully\n",
    "    \n",
    "    return output\n",
    "\n",
    "def get_embedding(imagepath):\n",
    "    return DeepFace.represent(img_path = imagepath, model_name=\"SFace\", enforce_detection=True)[0][\"embedding\"]\n",
    "\n",
    "def get_cos_dist_numpy(x, y):\n",
    "    return 1 - np.dot(x, y)/(np.linalg.norm(x)*np.linalg.norm(y))\n",
    "\n",
    "def get_cos_dist_nom(x, y):\n",
    "    return 1 - np.dot(x, y)\n",
    "        \n",
    "def get_two_random_embeddings(same_person):\n",
    "    \"\"\"Get two random embeddings of either the same person or two different people out of all the images available\"\"\"\n",
    "    people = os.listdir('lfw') # list of all people that have images\n",
    "    people_with_multiple_images = [p for p in people if len(os.listdir(f\"lfw/{p}\")) > 1] # list of people with more than one image in folder\n",
    "    embedding1, embedding2 = None, None # face embeddings\n",
    "    while embedding1 is None or embedding2 is None: # try until the chosen images have detectable faces\n",
    "        try:\n",
    "            if same_person:\n",
    "                # same person should have more than one image (we might still end up choosing the same image of that person with prob 1/n, but that's ok)\n",
    "                person1 = random.choice(people_with_multiple_images)\n",
    "                person2 = person1\n",
    "            else:\n",
    "                # two persons chosen should be different\n",
    "                person1 = random.choice(people)\n",
    "                person2 = random.choice([p for p in people if p != person1])\n",
    "            # get two random images\n",
    "            img1 = f\"lfw/{person1}/{random.choice(os.listdir(f'lfw/{person1}'))}\"\n",
    "            img2 = f\"lfw/{person2}/{random.choice(os.listdir(f'lfw/{person2}'))}\"\n",
    "            # try to extract embeddings from both images\n",
    "            embedding1 = get_embedding(img1)\n",
    "            embedding2 = get_embedding(img2)\n",
    "        except Exception as e:\n",
    "            # failed to detect faces in images, try again\n",
    "            # print(e)\n",
    "            pass\n",
    "    return np.array(embedding1), np.array(embedding2)\n",
    "\n",
    "def write_two_random_vecs(as_int=False):\n",
    "    x, y = get_two_random_embeddings(False)\n",
    "    if as_int:\n",
    "        x = x.astype(int)\n",
    "        y = y.astype(int)\n",
    "    with open(f\"{EXECUTABLE_PATH}/{INPUT_FILE_NAME}\", 'w') as f:\n",
    "        for x_i, y_i in zip(x, y):\n",
    "            f.write(f\"{x_i} {y_i}\\n\")"
   ]
  },
  {
   "cell_type": "code",
   "execution_count": 4,
   "metadata": {},
   "outputs": [
    {
     "data": {
      "text/plain": [
       "0.26386112452051613"
      ]
     },
     "execution_count": 4,
     "metadata": {},
     "output_type": "execute_result"
    }
   ],
   "source": [
    "embedding1 = get_embedding(\"lfw/George_W_Bush/George_W_Bush_0001.jpg\")\n",
    "embedding2 = get_embedding(\"lfw/George_W_Bush/George_W_Bush_0002.jpg\")\n",
    "get_cos_dist_numpy(embedding1, embedding2)"
   ]
  },
  {
   "cell_type": "code",
   "execution_count": 6,
   "metadata": {},
   "outputs": [],
   "source": [
    "norm_emb_1 = embedding1 / np.linalg.norm(embedding1)\n",
    "norm_emb_2 = embedding2 / np.linalg.norm(embedding2)"
   ]
  },
  {
   "cell_type": "code",
   "execution_count": 7,
   "metadata": {},
   "outputs": [
    {
     "data": {
      "text/plain": [
       "[-0.6843489408493042,\n",
       " 0.6780056357383728,\n",
       " 0.42722856998443604,\n",
       " -0.3400259017944336,\n",
       " -0.6200863122940063,\n",
       " 2.514937162399292,\n",
       " -1.3317066431045532,\n",
       " 0.7882114052772522,\n",
       " -1.024553894996643,\n",
       " -1.109717607498169,\n",
       " -2.748328924179077,\n",
       " 1.0827183723449707,\n",
       " -1.0164796113967896,\n",
       " 0.5706548690795898,\n",
       " 0.43959739804267883,\n",
       " 0.3957173228263855,\n",
       " -2.0649592876434326,\n",
       " -0.35260209441185,\n",
       " 1.0443885326385498,\n",
       " 1.276161551475525,\n",
       " -1.0018441677093506,\n",
       " 0.6367229223251343,\n",
       " 1.031566858291626,\n",
       " -0.6151783466339111,\n",
       " -0.692867636680603,\n",
       " -1.4578611850738525,\n",
       " -0.687010645866394,\n",
       " 0.8452903628349304,\n",
       " 1.0708965063095093,\n",
       " -0.3111672103404999,\n",
       " 0.8540692329406738,\n",
       " -1.3137155771255493,\n",
       " 0.3787042498588562,\n",
       " -2.1721811294555664,\n",
       " 0.5685135126113892,\n",
       " 1.2016093730926514,\n",
       " 0.9706039428710938,\n",
       " -1.0975675582885742,\n",
       " 0.8012404441833496,\n",
       " -0.10437052696943283,\n",
       " -0.4940742552280426,\n",
       " -0.7515782117843628,\n",
       " 2.545137405395508,\n",
       " 0.43849530816078186,\n",
       " -0.26104050874710083,\n",
       " -1.5399278402328491,\n",
       " 0.9504088163375854,\n",
       " 0.7170304656028748,\n",
       " -1.875198483467102,\n",
       " -0.8019348382949829,\n",
       " -0.5155015587806702,\n",
       " -0.8388283252716064,\n",
       " -1.0280847549438477,\n",
       " 1.1662734746932983,\n",
       " -0.04120103642344475,\n",
       " -0.04268522560596466,\n",
       " -1.4019651412963867,\n",
       " -0.7458068132400513,\n",
       " 1.2116985321044922,\n",
       " -0.11050152033567429,\n",
       " 0.5750608444213867,\n",
       " 1.7347214221954346,\n",
       " -0.23544028401374817,\n",
       " 0.3346683979034424,\n",
       " -0.7363309860229492,\n",
       " 0.9618887901306152,\n",
       " 0.6924884915351868,\n",
       " -0.643454909324646,\n",
       " -0.14430652558803558,\n",
       " 0.28919678926467896,\n",
       " 1.3538339138031006,\n",
       " 0.8803310990333557,\n",
       " -1.7387949228286743,\n",
       " 0.12315379828214645,\n",
       " 1.2617651224136353,\n",
       " 0.5350695252418518,\n",
       " -0.19597128033638,\n",
       " -0.10630294680595398,\n",
       " -0.5181532502174377,\n",
       " 0.7868322730064392,\n",
       " 1.0176849365234375,\n",
       " 0.6502028703689575,\n",
       " -1.1889928579330444,\n",
       " 2.007504940032959,\n",
       " -1.4451143741607666,\n",
       " -1.1088005304336548,\n",
       " 1.2397009134292603,\n",
       " -1.918315052986145,\n",
       " -2.031949281692505,\n",
       " -0.030460119247436523,\n",
       " -0.9240353107452393,\n",
       " 0.5595053434371948,\n",
       " 1.6209607124328613,\n",
       " -1.4918667078018188,\n",
       " -0.21405473351478577,\n",
       " -1.052020788192749,\n",
       " 0.5521165132522583,\n",
       " 1.704651951789856,\n",
       " -1.0555154085159302,\n",
       " -0.18649327754974365,\n",
       " 0.5695134401321411,\n",
       " 0.3882448077201843,\n",
       " 0.6899060606956482,\n",
       " -0.7008168697357178,\n",
       " 0.8789734244346619,\n",
       " -1.259749412536621,\n",
       " -0.2680889666080475,\n",
       " 0.026990283280611038,\n",
       " -0.1830877959728241,\n",
       " 1.7966724634170532,\n",
       " 1.9686253070831299,\n",
       " -0.8447555899620056,\n",
       " -0.6379151344299316,\n",
       " 0.2344084531068802,\n",
       " 2.0446667671203613,\n",
       " -1.1015536785125732,\n",
       " 0.9007920622825623,\n",
       " 1.1613566875457764,\n",
       " -0.05862000584602356,\n",
       " 1.4572564363479614,\n",
       " 0.8166055083274841,\n",
       " 0.2681257724761963,\n",
       " 1.7052701711654663,\n",
       " -2.0316548347473145,\n",
       " 0.9552520513534546,\n",
       " -0.3404764235019684,\n",
       " -0.03157337009906769,\n",
       " 1.2277672290802002]"
      ]
     },
     "execution_count": 7,
     "metadata": {},
     "output_type": "execute_result"
    }
   ],
   "source": [
    "embedding1"
   ]
  },
  {
   "cell_type": "code",
   "execution_count": 8,
   "metadata": {},
   "outputs": [
    {
     "data": {
      "text/plain": [
       "array([-0.05577931,  0.05526229,  0.03482217, -0.02771453, -0.05054145,\n",
       "        0.20498529, -0.10854358,  0.06424484, -0.08350844, -0.09044989,\n",
       "       -0.22400838,  0.08824926, -0.08285033,  0.04651244,  0.03583032,\n",
       "        0.03225378, -0.16830889, -0.02873958,  0.0851251 ,  0.10401626,\n",
       "       -0.08165744,  0.05189745,  0.08408005, -0.05014142, -0.05647365,\n",
       "       -0.11882607, -0.05599626,  0.06889719,  0.08728569, -0.02536234,\n",
       "        0.06961273, -0.10707718,  0.03086709, -0.17704823,  0.0463379 ,\n",
       "        0.09793972,  0.07911113, -0.08945957,  0.0653068 , -0.00850694,\n",
       "       -0.04027057, -0.06125898,  0.20744683,  0.03574049, -0.02127666,\n",
       "       -0.12551509,  0.07746509,  0.05844309, -0.15284203, -0.0653634 ,\n",
       "       -0.04201705, -0.06837048, -0.08379623,  0.0950596 , -0.00335818,\n",
       "       -0.00347915, -0.11427014, -0.06078857,  0.09876206, -0.00900666,\n",
       "        0.04687155,  0.14139215, -0.01919006,  0.02727786, -0.06001622,\n",
       "        0.07840079,  0.05644274, -0.05244616, -0.01176201,  0.0235716 ,\n",
       "        0.11034711,  0.07175325, -0.14172417,  0.01003791,  0.10284284,\n",
       "        0.04361198, -0.01597306, -0.00866445, -0.04223318,  0.06413243,\n",
       "        0.08294857,  0.05299617, -0.09691139,  0.16362595, -0.11778711,\n",
       "       -0.09037514,  0.10104445, -0.15635634, -0.16561834, -0.00248272,\n",
       "       -0.07531546,  0.04560367,  0.13211984, -0.12159776, -0.01744699,\n",
       "       -0.08574719,  0.04500143,  0.13894128, -0.08603202, -0.01520053,\n",
       "        0.0464194 ,  0.03164472,  0.05623226, -0.05712157,  0.07164259,\n",
       "       -0.10267855, -0.02185116,  0.0021999 , -0.01492296,  0.1464416 ,\n",
       "        0.16045698, -0.0688536 , -0.05199463,  0.01910596,  0.16665491,\n",
       "       -0.08978447,  0.07342097,  0.09465884, -0.00477795,  0.11877678,\n",
       "        0.06655917,  0.02185416,  0.13899167, -0.16559434,  0.07785985,\n",
       "       -0.02775125, -0.00257345,  0.10007177])"
      ]
     },
     "execution_count": 8,
     "metadata": {},
     "output_type": "execute_result"
    }
   ],
   "source": [
    "norm_emb_1"
   ]
  },
  {
   "cell_type": "code",
   "execution_count": 11,
   "metadata": {},
   "outputs": [
    {
     "data": {
      "text/plain": [
       "0.26386112452051613"
      ]
     },
     "execution_count": 11,
     "metadata": {},
     "output_type": "execute_result"
    }
   ],
   "source": [
    "get_cos_dist_numpy(norm_emb_1, norm_emb_2)"
   ]
  },
  {
   "cell_type": "code",
   "execution_count": 13,
   "metadata": {},
   "outputs": [
    {
     "data": {
      "text/plain": [
       "0.26386112452051613"
      ]
     },
     "execution_count": 13,
     "metadata": {},
     "output_type": "execute_result"
    }
   ],
   "source": [
    "get_cos_dist_nom(norm_emb_1, norm_emb_2)"
   ]
  },
  {
   "cell_type": "code",
   "execution_count": 5,
   "metadata": {},
   "outputs": [
    {
     "data": {
      "text/plain": [
       "{'verified': True,\n",
       " 'distance': 0.26386112452051613,\n",
       " 'threshold': 0.593,\n",
       " 'model': 'SFace',\n",
       " 'detector_backend': 'opencv',\n",
       " 'similarity_metric': 'cosine',\n",
       " 'facial_areas': {'img1': {'x': 70, 'y': 72, 'w': 108, 'h': 108},\n",
       "  'img2': {'x': 69, 'y': 70, 'w': 113, 'h': 113}},\n",
       " 'time': 0.07}"
      ]
     },
     "execution_count": 5,
     "metadata": {},
     "output_type": "execute_result"
    }
   ],
   "source": [
    "result = DeepFace.verify(img1_path = \"lfw/George_W_Bush/George_W_Bush_0001.jpg\", img2_path = \"lfw/George_W_Bush/George_W_Bush_0002.jpg\", model_name=\"SFace\")\n",
    "result"
   ]
  },
  {
   "cell_type": "code",
   "execution_count": 24,
   "metadata": {},
   "outputs": [
    {
     "data": {
      "text/plain": [
       "array([-8.83551598e-01, -4.29614931e-01, -6.73904359e-01,  7.80343413e-01,\n",
       "        1.28018951e+00, -4.28495675e-01,  1.52694774e+00,  2.06022882e+00,\n",
       "       -7.50259876e-01, -1.80774271e-01,  4.34262246e-01,  1.49772123e-01,\n",
       "        3.83244097e-01,  7.17375159e-01, -1.60901830e-01, -8.18099603e-02,\n",
       "       -2.44410992e+00,  1.02034438e+00, -2.94784904e+00,  3.05196786e+00,\n",
       "       -5.64855158e-01,  7.30196357e-01,  4.58130330e-01, -7.65918493e-01,\n",
       "        8.64430487e-01, -1.35592782e+00, -3.59060708e-04, -8.11428308e-01,\n",
       "        1.53911710e-01, -6.08670354e-01, -4.65954036e-01, -1.04143798e-01,\n",
       "       -3.69812965e-01,  8.91645849e-01, -2.34297186e-01,  8.03180933e-01,\n",
       "        3.29210162e-02, -9.61613178e-01,  1.06024468e+00,  6.21587753e-01,\n",
       "        3.88016135e-01,  8.74610782e-01, -1.05808020e+00, -8.69417906e-01,\n",
       "        2.71820396e-01,  8.30140352e-01, -4.21035647e-01, -4.98189718e-01,\n",
       "       -8.12705874e-01,  5.96207500e-01,  1.07833791e+00, -1.00928962e+00,\n",
       "        4.13474470e-01,  1.08661807e+00, -5.16596287e-02, -1.46424305e+00,\n",
       "       -1.69278875e-01, -6.29933238e-01,  1.96648508e-01,  5.74217677e-01,\n",
       "        1.72626770e+00,  7.31046721e-02, -6.65212154e-01,  3.84426653e-01,\n",
       "        6.67716503e-01, -1.33411482e-01,  2.08927929e-01, -1.24549532e+00,\n",
       "        6.67396843e-01,  8.98487806e-01,  4.07544315e-01, -4.84561384e-01,\n",
       "       -7.51753896e-02, -2.93925777e-02,  2.52051026e-01,  1.55659616e+00,\n",
       "       -6.81194186e-01, -5.71165621e-01, -2.86341965e-01,  4.71484840e-01,\n",
       "       -3.30087394e-01,  4.86431062e-01,  5.56322217e-01,  5.65480471e-01,\n",
       "       -1.55046129e+00,  8.88371408e-01,  4.14849460e-01, -1.19902718e+00,\n",
       "       -2.69193240e-02,  1.54284787e+00,  1.11650753e+00, -7.93060541e-01,\n",
       "       -1.50777683e-01, -2.07897767e-01, -3.88673127e-01, -1.46377337e+00,\n",
       "       -1.23782897e+00,  4.08894897e-01, -8.82509232e-01,  1.42894840e+00,\n",
       "        2.36741856e-01, -5.40109873e-02, -1.05526380e-01,  4.61889893e-01,\n",
       "        2.71309495e-01, -8.70382190e-01, -6.80283070e-01,  2.64445633e-01,\n",
       "       -3.73349220e-01, -5.88855863e-01,  8.07300508e-01, -1.40504289e+00,\n",
       "        6.72517195e-02,  1.16796446e+00, -1.74339414e-01, -7.31886089e-01,\n",
       "       -6.53610155e-02,  3.51802140e-01, -3.34102213e-01, -5.43010980e-02,\n",
       "        4.99083638e-01, -2.00182915e-01,  6.68617249e-01, -1.11520183e+00,\n",
       "        2.27387697e-01,  1.51032960e+00,  5.96511543e-01,  1.48705280e+00])"
      ]
     },
     "execution_count": 24,
     "metadata": {},
     "output_type": "execute_result"
    }
   ],
   "source": [
    "# 1st try with real data\n",
    "\n",
    "# Get two embeddings of images that we will be comparing.\n",
    "a, b = get_two_random_embeddings(same_person=False)\n",
    "\n",
    "# This is how they look like raw\n",
    "a"
   ]
  },
  {
   "cell_type": "code",
   "execution_count": 32,
   "metadata": {},
   "outputs": [
    {
     "data": {
      "text/plain": [
       "array([ -88,  -43,  -67,   78,  128,  -43,  153,  206,  -75,  -18,   43,\n",
       "         15,   38,   72,  -16,   -8, -244,  102, -295,  305,  -56,   73,\n",
       "         46,  -77,   86, -136,    0,  -81,   15,  -61,  -47,  -10,  -37,\n",
       "         89,  -23,   80,    3,  -96,  106,   62,   39,   87, -106,  -87,\n",
       "         27,   83,  -42,  -50,  -81,   60,  108, -101,   41,  109,   -5,\n",
       "       -146,  -17,  -63,   20,   57,  173,    7,  -67,   38,   67,  -13,\n",
       "         21, -125,   67,   90,   41,  -48,   -8,   -3,   25,  156,  -68,\n",
       "        -57,  -29,   47,  -33,   49,   56,   57, -155,   89,   41, -120,\n",
       "         -3,  154,  112,  -79,  -15,  -21,  -39, -146, -124,   41,  -88,\n",
       "        143,   24,   -5,  -11,   46,   27,  -87,  -68,   26,  -37,  -59,\n",
       "         81, -141,    7,  117,  -17,  -73,   -7,   35,  -33,   -5,   50,\n",
       "        -20,   67, -112,   23,  151,   60,  149])"
      ]
     },
     "execution_count": 32,
     "metadata": {},
     "output_type": "execute_result"
    }
   ],
   "source": [
    "# Make the shares\n",
    "# x is the captured face, y is the face in the database\n",
    "# First, scale the values up by 10 000, then get rid of the decimal part then cast to int\n",
    "\n",
    "x = (a * 100).round().astype(int)\n",
    "y = (b * 100).round().astype(int)\n",
    "\n",
    "# so far so good\n",
    "x"
   ]
  },
  {
   "cell_type": "code",
   "execution_count": 33,
   "metadata": {},
   "outputs": [
    {
     "data": {
      "text/plain": [
       "array([ 52, -33,   9, -41,  77,   1, -15, -36, -12,   6, 139, -21, 122,\n",
       "       -48, -14, -61, -43, -21,   4,  26,  -2, -50, -16, -53, -25,  91,\n",
       "        57,  19, -24,  11, -12,   9, -15,  25, -50, -15,  18,  42,   0,\n",
       "       -29, -67,  40,  40,  -9,  27,  26, -27, -46,   9,  -4,  93, -43,\n",
       "        11,  17,   8,  88,  11,  57, -34, -35, -42, -25, -55,  12,  19,\n",
       "        -8,  41,  33,  -3,  17, -55,   6,  41, -29, -15, -31,  34,  76,\n",
       "       -24,  10,  58,   8,  79, -33,  -8,  64,  17,  32,  38, 101,  24,\n",
       "       135,  58,  35,  44, -14, -27, -17, -20,  34,   0,  57,  53,  22,\n",
       "       -58,  43,  45,  -9, -30,  -6,  59,  11,  59, -21,  12,  69, -69,\n",
       "       -12,  39,  -4, -55, 122, -15,  14,  40, -25,  18,  39])"
      ]
     },
     "execution_count": 33,
     "metadata": {},
     "output_type": "execute_result"
    }
   ],
   "source": [
    "y"
   ]
  },
  {
   "cell_type": "code",
   "execution_count": 35,
   "metadata": {},
   "outputs": [
    {
     "data": {
      "text/plain": [
       "array([-253,  290, -281,  -37,   62, -238, -115, -195,   86, -153,   59,\n",
       "       -135,   39, -192, -258, -278,  134,  280,  182, -245, -293,  -57,\n",
       "         44, -178,  253,  143,  187,    2,   43,  265,  210,  162,  -71,\n",
       "       -139, -181,  173, -160,  159,  -53, -260,   34,    5,  -46,  238,\n",
       "       -152,   26,  288, -209, -285,   64,  184, -225, -174, -151,  109,\n",
       "         45, -130, -182, -282,  129, -143,   96,  162, -225,   22, -243,\n",
       "       -132,    6,  217,  -20,  166, -256,  127,   62,   -5, -128, -193,\n",
       "         -4,  272,  288, -162,  -60,  132,  228,  219, -275,  249,  261,\n",
       "         -3,   72, -276,  178,   86,  178,  131,  234, -196,  -69,  -68,\n",
       "         64,  -50,  269,  178,  -40,  137, -149, -141,  287,  291,  138,\n",
       "       -290,   56,   52,    6,   10,   29,    5,   74,  274,  -65,   -1,\n",
       "        267,  -33,  -60,  217,  254,  262,  259])"
      ]
     },
     "execution_count": 35,
     "metadata": {},
     "output_type": "execute_result"
    }
   ],
   "source": [
    "# Now create the shares\n",
    "\n",
    "# random nonces, values in the same range as the embeddings after scaling\n",
    "r = rng.integers(-300, 300, 128)\n",
    "r"
   ]
  },
  {
   "cell_type": "code",
   "execution_count": 36,
   "metadata": {},
   "outputs": [
    {
     "data": {
      "text/plain": [
       "array([-201, -259, -274,   12,  115, -237,  124,  225,  -94, -159,  176,\n",
       "        146,   93,  144,  268,  297, -173, -269,  178, -239,  293,    9,\n",
       "        -36,  133, -230,  212,  130,   17,  -61,  258, -218,  171,   72,\n",
       "       -148,  133, -164, -142,  181,  -53,  287,  -97,   45,   -6, -231,\n",
       "       -141,    0, -315,  253, -278,  -68,  229,  202, -167, -136,  101,\n",
       "        117, -139, -141,  312, -164,  167, -121, -149, -237,    5,  245,\n",
       "       -171,   39, -220,   -3, -145, -250,   86,  -35,   10,   97, -227,\n",
       "        -80, -264,  298, -156,  -52,  203, -197, -221, -339,  232,  293,\n",
       "        -37,   45, -268,   53,  108,  145,  175, -232,  217,   84,   80,\n",
       "         98,  -50,  308,  135,  -50, -177, -192, -162, -280, -319, -144,\n",
       "       -283,   51,   15,  -19,    6,   88,  -66,  -66,  309,   67,   54,\n",
       "        369,   46,  -54,  241, -231,  276,  292])"
      ]
     },
     "execution_count": 36,
     "metadata": {},
     "output_type": "execute_result"
    }
   ],
   "source": [
    "# y_1 is the server's share, simply the nonces\n",
    "y_1 = r\n",
    "\n",
    "# y_0 is the mb's share, it's the nonces XORed with y\n",
    "y_0 = np.bitwise_xor(y, r)\n",
    "\n",
    "y_0"
   ]
  },
  {
   "cell_type": "code",
   "execution_count": 37,
   "metadata": {},
   "outputs": [
    {
     "data": {
      "text/plain": [
       "array([ True,  True,  True,  True,  True,  True,  True,  True,  True,\n",
       "        True,  True,  True,  True,  True,  True,  True,  True,  True,\n",
       "        True,  True,  True,  True,  True,  True,  True,  True,  True,\n",
       "        True,  True,  True,  True,  True,  True,  True,  True,  True,\n",
       "        True,  True,  True,  True,  True,  True,  True,  True,  True,\n",
       "        True,  True,  True,  True,  True,  True,  True,  True,  True,\n",
       "        True,  True,  True,  True,  True,  True,  True,  True,  True,\n",
       "        True,  True,  True,  True,  True,  True,  True,  True,  True,\n",
       "        True,  True,  True,  True,  True,  True,  True,  True,  True,\n",
       "        True,  True,  True,  True,  True,  True,  True,  True,  True,\n",
       "        True,  True,  True,  True,  True,  True,  True,  True,  True,\n",
       "        True,  True,  True,  True,  True,  True,  True,  True,  True,\n",
       "        True,  True,  True,  True,  True,  True,  True,  True,  True,\n",
       "        True,  True,  True,  True,  True,  True,  True,  True,  True,\n",
       "        True,  True])"
      ]
     },
     "execution_count": 37,
     "metadata": {},
     "output_type": "execute_result"
    }
   ],
   "source": [
    "# To check that the xoring works, we can XOR y_0 with y_1 and we expect to obtain y\n",
    "\n",
    "y == np.bitwise_xor(y_0, y_1)"
   ]
  },
  {
   "cell_type": "code",
   "execution_count": 38,
   "metadata": {},
   "outputs": [],
   "source": [
    "# Let's run the ABY code (I am providing y for verification, it's not needed nor used in the circuit)\n",
    "\n",
    "output = run_sfe(x, y, y_0, y_1)"
   ]
  },
  {
   "cell_type": "code",
   "execution_count": 40,
   "metadata": {
    "scrolled": true
   },
   "outputs": [
    {
     "name": "stdout",
     "output_type": "stream",
     "text": [
      "INPUT FILE NAME: input_vecs.txt\n",
      "OUTPUT FILE NAME: \n",
      "s_product nvals: 128\n",
      "s_product bitlen: 32\n",
      "Online time is distributed as follows: \n",
      "Bool: local gates: 14.1670000000, interactive gates: 12.2380000000, layer finish: 6.6670000000\n",
      "Yao: local gates: 0.1480000000, interactive gates: 0.1310000000, layer finish: 0.0530000000\n",
      "Yao Rev: local gates: 0.1390000000, interactive gates: 0.1450000000, layer finish: 0.0780000000\n",
      "Arith: local gates: 0.1770000000, interactive gates: 0.1310000000, layer finish: 0.1260000000\n",
      "SPLUT: local gates: 0.1620000000, interactive gates: 0.1340000000, layer finish: 0.7900000000\n",
      "Communication: 38.9110000000\n",
      "\n",
      "Complexities: \n",
      "Boolean Sharing: ANDs: 1039177 (1-bit) ; Depth: 589\n",
      "Total Vec AND: 1039177\n",
      "Total Non-Vec AND: 1039177\n",
      "XOR vals: 3891143 gates: 98669\n",
      "Comb gates: 0, CombStruct gates: 0, Perm gates: 0, Subset gates: 12288, Split gates: 0\n",
      "Yao: ANDs: 0 ; Depth: 0\n",
      "Reverse Yao: ANDs: 0 ; Depth: 0\n",
      "Arithmetic Sharing: MULs: 0 ; Depth: 0\n",
      "SP-LUT Sharing: OT-gates: Total OT gates = 0; Depth: 1\n",
      "Total number of gates: 205521 Total depth: 589\n",
      "Timings: \n",
      "Total =\t\t284.1810000000 ms\n",
      "Init =\t\t0.1970000000 ms\n",
      "CircuitGen =\t0.2070000000 ms\n",
      "Network =\t2.0820000000 ms\n",
      "BaseOTs =\t254.4570000000 ms\n",
      "Setup =\t\t209.4890000000 ms\n",
      "OTExtension =\t208.3490000000 ms\n",
      "Garbling =\t0.0010000000 ms\n",
      "Online =\t74.6900000000 ms\n",
      "\n",
      "Communication: \n",
      "Total Sent / Rcv\t16969386  bytes / 16970401 bytes\n",
      "BaseOTs Sent / Rcv\t49947  bytes / 49956 bytes\n",
      "Setup Sent / Rcv\t16703715  bytes / 16703706 bytes\n",
      "OTExtension Sent / Rcv\t16703706  bytes / 16703706 bytes\n",
      "Garbling Sent / Rcv\t0  bytes / 0 bytes\n",
      "Online Sent / Rcv\t265671  bytes / 266695 bytes\n",
      "INPUT EMBEDDINGS:\n",
      "X:\n",
      "4294967208, 4294967253, 4294967229, 78, 128, 4294967253, 153, 206, 4294967221, 4294967278, 43, 15, 38, 72, 4294967280, 4294967288, 4294967052, 102, 4294967001, 305, 4294967240, 73, 46, 4294967219, 86, 4294967160, 0, 4294967215, 15, 4294967235, 4294967249, 4294967286, 4294967259, 89, 4294967273, 80, 3, 4294967200, 106, 62, 39, 87, 4294967190, 4294967209, 27, 83, 4294967254, 4294967246, 4294967215, 60, 108, 4294967195, 41, 109, 4294967291, 4294967150, 4294967279, 4294967233, 20, 57, 173, 7, 4294967229, 38, 67, 4294967283, 21, 4294967171, 67, 90, 41, 4294967248, 4294967288, 4294967293, 25, 156, 4294967228, 4294967239, 4294967267, 47, 4294967263, 49, 56, 57, 4294967141, 89, 41, 4294967176, 4294967293, 154, 112, 4294967217, 4294967281, 4294967275, 4294967257, 4294967150, 4294967172, 41, 4294967208, 143, 24, 4294967291, 4294967285, 46, 27, 4294967209, 4294967228, 26, 4294967259, 4294967237, 81, 4294967155, 7, 117, 4294967279, 4294967223, 4294967289, 35, 4294967263, 4294967291, 50, 4294967276, 67, 4294967184, 23, 151, 60, 149, \n",
      "Y:\n",
      "52, 4294967263, 9, 4294967255, 77, 1, 4294967281, 4294967260, 4294967284, 6, 139, 4294967275, 122, 4294967248, 4294967282, 4294967235, 4294967253, 4294967275, 4, 26, 4294967294, 4294967246, 4294967280, 4294967243, 4294967271, 91, 57, 19, 4294967272, 11, 4294967284, 9, 4294967281, 25, 4294967246, 4294967281, 18, 42, 0, 4294967267, 4294967229, 40, 40, 4294967287, 27, 26, 4294967269, 4294967250, 9, 4294967292, 93, 4294967253, 11, 17, 8, 88, 11, 57, 4294967262, 4294967261, 4294967254, 4294967271, 4294967241, 12, 19, 4294967288, 41, 33, 4294967293, 17, 4294967241, 6, 41, 4294967267, 4294967281, 4294967265, 34, 76, 4294967272, 10, 58, 8, 79, 4294967263, 4294967288, 64, 17, 32, 38, 101, 24, 135, 58, 35, 44, 4294967282, 4294967269, 4294967279, 4294967276, 34, 0, 57, 53, 22, 4294967238, 43, 45, 4294967287, 4294967266, 4294967290, 59, 11, 59, 4294967275, 12, 69, 4294967227, 4294967284, 39, 4294967292, 4294967241, 122, 4294967281, 14, 40, 4294967271, 18, 39, \n",
      "SHARE:\n",
      "4294967043, 290, 4294967015, 4294967259, 62, 4294967058, 4294967181, 4294967101, 86, 4294967143, 59, 4294967161, 39, 4294967104, 4294967038, 4294967018, 134, 280, 182, 4294967051, 4294967003, 4294967239, 44, 4294967118, 253, 143, 187, 2, 43, 265, 210, 162, 4294967225, 4294967157, 4294967115, 173, 4294967136, 159, 4294967243, 4294967036, 34, 5, 4294967250, 238, 4294967144, 26, 288, 4294967087, 4294967011, 64, 184, 4294967071, 4294967122, 4294967145, 109, 45, 4294967166, 4294967114, 4294967014, 129, 4294967153, 96, 162, 4294967071, 22, 4294967053, 4294967164, 6, 217, 4294967276, 166, 4294967040, 127, 62, 4294967291, 4294967168, 4294967103, 4294967292, 272, 288, 4294967134, 4294967236, 132, 228, 219, 4294967021, 249, 261, 4294967293, 72, 4294967020, 178, 86, 178, 131, 234, 4294967100, 4294967227, 4294967228, 64, 4294967246, 269, 178, 4294967256, 137, 4294967147, 4294967155, 287, 291, 138, 4294967006, 56, 52, 6, 10, 29, 5, 74, 274, 4294967231, 4294967295, 267, 4294967263, 4294967236, 217, 254, 262, 259, \n",
      "\n",
      "VERIFICATION:\n",
      "x dot y: 479615351770488766464.0000000000\n",
      "norm(x): 34359737851.1250000000\n",
      "norm(y): 32426291776.3203392029\n",
      "cos sim: 0.5695269694\n",
      "CIRCUIT RESULTS:\n",
      "x dot share: 0.0000000000\n",
      "norm(x) : 0.0000000000\n",
      "norm(share): 0.0000000000\n",
      "cos sim: 0.0000000000\n",
      "\n"
     ]
    }
   ],
   "source": [
    "\"\"\"inspect the results\n",
    "After the statistics from ABY I am printing:\n",
    "- the input x,y and the share (in this case output is from the server,so we see share y_1)\n",
    "- the verification results and the circuit results\n",
    "\"\"\"\n",
    "# Unfortunately, circuit result is incorrect.\n",
    "print(output.stdout)"
   ]
  },
  {
   "cell_type": "code",
   "execution_count": 11,
   "metadata": {},
   "outputs": [
    {
     "data": {
      "text/plain": [
       "array([ 1, -1,  0, -2,  1, -1, -2, -1, -2, -1, -1,  0,  1,  1,  1, -1,  3,\n",
       "       -1,  1,  0, -1,  1,  0,  1,  2,  0, -1, -1, -1,  0,  1,  0, -1,  1,\n",
       "        1,  1,  1,  1,  1,  1,  1, -1, -1,  1,  1,  1, -2, -1, -1, -1,  0,\n",
       "        1, -1, -1, -1,  1,  1,  0,  0,  1,  0,  0, -1, -1, -1,  0,  1,  1,\n",
       "       -1,  1,  2,  1,  1,  0,  2,  1,  0,  1, -1,  0,  0, -1,  0, -2,  0,\n",
       "        2,  1,  1,  0,  1, -1,  0, -1,  0,  1, -1,  0,  1,  1,  0,  1, -2,\n",
       "        1, -2,  0,  1, -1,  0, -1, -1,  0,  0,  0, -2, -2, -1,  0,  0, -1,\n",
       "        0,  1,  0,  2,  1, -1,  0,  0,  1])"
      ]
     },
     "execution_count": 11,
     "metadata": {},
     "output_type": "execute_result"
    }
   ],
   "source": [
    "# Since we are getting 'inf' values, I scale by a smaller amount and see if that helps\n",
    "# Let's go extreme and round the floats\n",
    "\n",
    "x = a.round().astype(int)\n",
    "y = b.round().astype(int)\n",
    "\n",
    "\n",
    "x"
   ]
  },
  {
   "cell_type": "code",
   "execution_count": 12,
   "metadata": {},
   "outputs": [
    {
     "data": {
      "text/plain": [
       "array([ True,  True,  True,  True,  True,  True,  True,  True,  True,\n",
       "        True,  True,  True,  True,  True,  True,  True,  True,  True,\n",
       "        True,  True,  True,  True,  True,  True,  True,  True,  True,\n",
       "        True,  True,  True,  True,  True,  True,  True,  True,  True,\n",
       "        True,  True,  True,  True,  True,  True,  True,  True,  True,\n",
       "        True,  True,  True,  True,  True,  True,  True,  True,  True,\n",
       "        True,  True,  True,  True,  True,  True,  True,  True,  True,\n",
       "        True,  True,  True,  True,  True,  True,  True,  True,  True,\n",
       "        True,  True,  True,  True,  True,  True,  True,  True,  True,\n",
       "        True,  True,  True,  True,  True,  True,  True,  True,  True,\n",
       "        True,  True,  True,  True,  True,  True,  True,  True,  True,\n",
       "        True,  True,  True,  True,  True,  True,  True,  True,  True,\n",
       "        True,  True,  True,  True,  True,  True,  True,  True,  True,\n",
       "        True,  True,  True,  True,  True,  True,  True,  True,  True,\n",
       "        True,  True])"
      ]
     },
     "execution_count": 12,
     "metadata": {},
     "output_type": "execute_result"
    }
   ],
   "source": [
    "# Now create the shares, everything the same way as above\n",
    "\n",
    "# random nonces, values in the same range as the embeddings after scaling\n",
    "r = rng.integers(-3, 3, 128)\n",
    "\n",
    "# y_1 is the server's share, simply the nonces\n",
    "y_1 = r\n",
    "\n",
    "# y_0 is the mb's share, it's the nonces XORed with y\n",
    "y_0 = np.bitwise_xor(y, r)\n",
    "\n",
    "# To check that the xoring works, we can XOR y_0 with y_1 and we expect to obtain y\n",
    "y == np.bitwise_xor(y_0, y_1)"
   ]
  },
  {
   "cell_type": "code",
   "execution_count": 13,
   "metadata": {},
   "outputs": [],
   "source": [
    "# Let's run the ABY code (I am providing y for verification, it's not needed nor used in the circuit)\n",
    "\n",
    "output = run_sfe(x, y, y_0, y_1)\n"
   ]
  },
  {
   "cell_type": "code",
   "execution_count": 14,
   "metadata": {},
   "outputs": [
    {
     "name": "stdout",
     "output_type": "stream",
     "text": [
      "INPUT FILE NAME: input_vecs.txt\n",
      "OUTPUT FILE NAME: \n",
      "s_product nvals: 128\n",
      "s_product bitlen: 32\n",
      "Online time is distributed as follows: \n",
      "Bool: local gates: 16.5100000000, interactive gates: 15.0440000000, layer finish: 7.4260000000\n",
      "Yao: local gates: 0.1450000000, interactive gates: 0.1740000000, layer finish: 0.0440000000\n",
      "Yao Rev: local gates: 0.1600000000, interactive gates: 0.1530000000, layer finish: 0.0640000000\n",
      "Arith: local gates: 0.1640000000, interactive gates: 0.1310000000, layer finish: 0.1360000000\n",
      "SPLUT: local gates: 0.1440000000, interactive gates: 0.1390000000, layer finish: 0.8130000000\n",
      "Communication: 43.7520000000\n",
      "\n",
      "Complexities: \n",
      "Boolean Sharing: ANDs: 1039177 (1-bit) ; Depth: 589\n",
      "Total Vec AND: 1039177\n",
      "Total Non-Vec AND: 1039177\n",
      "XOR vals: 3891143 gates: 98669\n",
      "Comb gates: 0, CombStruct gates: 0, Perm gates: 0, Subset gates: 12288, Split gates: 0\n",
      "Yao: ANDs: 0 ; Depth: 0\n",
      "Reverse Yao: ANDs: 0 ; Depth: 0\n",
      "Arithmetic Sharing: MULs: 0 ; Depth: 0\n",
      "SP-LUT Sharing: OT-gates: Total OT gates = 0; Depth: 1\n",
      "Total number of gates: 205521 Total depth: 589\n",
      "Timings: \n",
      "Total =\t\t344.8280000000 ms\n",
      "Init =\t\t0.1430000000 ms\n",
      "CircuitGen =\t0.1510000000 ms\n",
      "Network =\t11.6700000000 ms\n",
      "BaseOTs =\t351.1280000000 ms\n",
      "Setup =\t\t259.3480000000 ms\n",
      "OTExtension =\t257.6860000000 ms\n",
      "Garbling =\t0.0020000000 ms\n",
      "Online =\t85.4770000000 ms\n",
      "\n",
      "Communication: \n",
      "Total Sent / Rcv\t16969377  bytes / 16970401 bytes\n",
      "BaseOTs Sent / Rcv\t49956  bytes / 49956 bytes\n",
      "Setup Sent / Rcv\t16703706  bytes / 16703706 bytes\n",
      "OTExtension Sent / Rcv\t16703706  bytes / 16703706 bytes\n",
      "Garbling Sent / Rcv\t0  bytes / 0 bytes\n",
      "Online Sent / Rcv\t265671  bytes / 266695 bytes\n",
      "INPUT EMBEDDINGS:\n",
      "X:\n",
      "1, 4294967295, 0, 4294967294, 1, 4294967295, 4294967294, 4294967295, 4294967294, 4294967295, 4294967295, 0, 1, 1, 1, 4294967295, 3, 4294967295, 1, 0, 4294967295, 1, 0, 1, 2, 0, 4294967295, 4294967295, 4294967295, 0, 1, 0, 4294967295, 1, 1, 1, 1, 1, 1, 1, 1, 4294967295, 4294967295, 1, 1, 1, 4294967294, 4294967295, 4294967295, 4294967295, 0, 1, 4294967295, 4294967295, 4294967295, 1, 1, 0, 0, 1, 0, 0, 4294967295, 4294967295, 4294967295, 0, 1, 1, 4294967295, 1, 2, 1, 1, 0, 2, 1, 0, 1, 4294967295, 0, 0, 4294967295, 0, 4294967294, 0, 2, 1, 1, 0, 1, 4294967295, 0, 4294967295, 0, 1, 4294967295, 0, 1, 1, 0, 1, 4294967294, 1, 4294967294, 0, 1, 4294967295, 0, 4294967295, 4294967295, 0, 0, 0, 4294967294, 4294967294, 4294967295, 0, 0, 4294967295, 0, 1, 0, 2, 1, 4294967295, 0, 0, 1, \n",
      "Y:\n",
      "0, 0, 1, 0, 1, 1, 0, 1, 0, 1, 4294967295, 0, 0, 4294967295, 0, 0, 1, 4294967295, 1, 1, 1, 1, 1, 4294967295, 0, 0, 1, 4294967295, 1, 0, 1, 4294967295, 0, 0, 0, 0, 0, 0, 4294967295, 0, 2, 1, 1, 1, 4294967295, 4294967295, 0, 0, 0, 1, 0, 4294967295, 4294967295, 1, 1, 0, 0, 0, 0, 4294967295, 0, 1, 4294967295, 4294967294, 4294967295, 0, 0, 4294967295, 4294967295, 1, 0, 4294967295, 0, 0, 4294967295, 0, 2, 4294967294, 1, 2, 4294967295, 4294967295, 0, 4294967295, 0, 0, 0, 4294967295, 1, 4294967295, 4294967295, 1, 0, 0, 4294967295, 0, 4294967294, 0, 4294967295, 0, 0, 4294967295, 1, 2, 0, 4294967295, 4294967295, 0, 0, 0, 1, 1, 1, 4294967295, 4294967295, 1, 2, 4294967295, 0, 0, 0, 0, 4294967295, 0, 1, 0, 0, 0, \n",
      "SHARE:\n",
      "1, 0, 0, 2, 4294967294, 2, 0, 2, 4294967293, 4294967293, 1, 4294967293, 4294967295, 2, 2, 4294967293, 4294967294, 0, 0, 4294967294, 2, 4294967293, 2, 4294967294, 4294967293, 4294967294, 0, 4294967293, 0, 4294967293, 4294967293, 0, 4294967295, 4294967293, 4294967295, 4294967294, 0, 0, 4294967295, 4294967295, 4294967295, 0, 4294967294, 2, 4294967293, 1, 4294967293, 2, 2, 4294967293, 4294967294, 0, 4294967295, 4294967293, 4294967293, 4294967294, 0, 4294967295, 0, 4294967295, 4294967295, 0, 4294967293, 0, 4294967295, 4294967294, 1, 4294967293, 1, 1, 0, 0, 4294967293, 4294967295, 2, 4294967295, 4294967295, 4294967295, 4294967295, 4294967294, 4294967294, 0, 0, 0, 4294967295, 4294967294, 4294967293, 4294967293, 2, 4294967294, 4294967293, 4294967294, 4294967295, 4294967293, 0, 4294967294, 0, 0, 4294967294, 4294967295, 4294967294, 2, 4294967294, 4294967295, 4294967293, 2, 1, 4294967295, 4294967295, 4294967293, 4294967293, 4294967295, 4294967295, 2, 0, 4294967293, 4294967294, 2, 4294967294, 4294967293, 1, 0, 1, 4294967295, 4294967294, 4294967295, 1, 2, \n",
      "\n",
      "VERIFICATION:\n",
      "x dot y: 276701161105643274240.0000000000\n",
      "norm(x): 28489590007.3685455322\n",
      "norm(y): 25769803769.5000000000\n",
      "cos sim: 0.6231108191\n",
      "CIRCUIT RESULTS:\n",
      "x dot share: 0.0000000000\n",
      "norm(x) : 0.0000000000\n",
      "norm(share): 0.0000000000\n",
      "cos sim: 0.0000000000\n",
      "\n"
     ]
    }
   ],
   "source": [
    "# inspect the results\n",
    "\n",
    "# Unfortunately, circuit result is incorrect.\n",
    "print(output.stdout)"
   ]
  },
  {
   "cell_type": "code",
   "execution_count": 41,
   "metadata": {},
   "outputs": [
    {
     "name": "stdout",
     "output_type": "stream",
     "text": [
      "INPUT FILE NAME: input_vecs.txt\n",
      "OUTPUT FILE NAME: \n",
      "x: 7 | y: 5\n",
      "x: 96 | y: 71\n",
      "x: 57 | y: 50\n",
      "x: 69 | y: 79\n",
      "x: 77 | y: 47\n",
      "x: 91 | y: 57\n",
      "x: 77 | y: 84\n",
      "x: 99 | y: 53\n",
      "x: 20 | y: 39\n",
      "x: 10 | y: 93\n",
      "x: 4 | y: 98\n",
      "x: 70 | y: 53\n",
      "x: 80 | y: 4\n",
      "x: 50 | y: 94\n",
      "x: 19 | y: 11\n",
      "x: 78 | y: 49\n",
      "x: 54 | y: 58\n",
      "x: 37 | y: 31\n",
      "x: 68 | y: 46\n",
      "x: 88 | y: 67\n",
      "x: 56 | y: 54\n",
      "x: 7 | y: 86\n",
      "x: 85 | y: 81\n",
      "x: 1 | y: 49\n",
      "x: 37 | y: 84\n",
      "x: 90 | y: 7\n",
      "x: 62 | y: 45\n",
      "x: 24 | y: 14\n",
      "x: 79 | y: 91\n",
      "x: 7 | y: 29\n",
      "x: 82 | y: 79\n",
      "x: 55 | y: 11\n",
      "x: 18 | y: 61\n",
      "x: 98 | y: 11\n",
      "x: 32 | y: 86\n",
      "x: 38 | y: 18\n",
      "x: 56 | y: 83\n",
      "x: 34 | y: 50\n",
      "x: 22 | y: 22\n",
      "x: 77 | y: 42\n",
      "x: 29 | y: 66\n",
      "x: 79 | y: 69\n",
      "x: 83 | y: 55\n",
      "x: 47 | y: 92\n",
      "x: 64 | y: 72\n",
      "x: 51 | y: 15\n",
      "x: 79 | y: 54\n",
      "x: 72 | y: 69\n",
      "x: 59 | y: 70\n",
      "x: 79 | y: 56\n",
      "x: 14 | y: 26\n",
      "x: 99 | y: 63\n",
      "x: 55 | y: 91\n",
      "x: 47 | y: 71\n",
      "x: 26 | y: 57\n",
      "x: 25 | y: 68\n",
      "x: 10 | y: 26\n",
      "x: 8 | y: 33\n",
      "x: 36 | y: 34\n",
      "x: 33 | y: 42\n",
      "x: 63 | y: 31\n",
      "x: 31 | y: 9\n",
      "x: 63 | y: 10\n",
      "x: 40 | y: 84\n",
      "x: 66 | y: 18\n",
      "x: 39 | y: 69\n",
      "x: 7 | y: 15\n",
      "x: 12 | y: 73\n",
      "x: 48 | y: 32\n",
      "x: 58 | y: 42\n",
      "x: 23 | y: 48\n",
      "x: 14 | y: 14\n",
      "x: 19 | y: 10\n",
      "x: 70 | y: 3\n",
      "x: 97 | y: 17\n",
      "x: 41 | y: 90\n",
      "x: 24 | y: 11\n",
      "x: 19 | y: 47\n",
      "x: 29 | y: 8\n",
      "x: 19 | y: 44\n",
      "x: 62 | y: 32\n",
      "x: 37 | y: 45\n",
      "x: 39 | y: 2\n",
      "x: 19 | y: 22\n",
      "x: 42 | y: 54\n",
      "x: 27 | y: 15\n",
      "x: 5 | y: 31\n",
      "x: 10 | y: 24\n",
      "x: 3 | y: 33\n",
      "x: 40 | y: 23\n",
      "x: 24 | y: 68\n",
      "x: 42 | y: 98\n",
      "x: 17 | y: 35\n",
      "x: 44 | y: 40\n",
      "x: 94 | y: 10\n",
      "x: 22 | y: 7\n",
      "x: 85 | y: 71\n",
      "x: 13 | y: 48\n",
      "x: 83 | y: 16\n",
      "x: 67 | y: 58\n",
      "x: 51 | y: 36\n",
      "x: 70 | y: 4\n",
      "x: 44 | y: 20\n",
      "x: 3 | y: 15\n",
      "x: 45 | y: 36\n",
      "x: 77 | y: 43\n",
      "x: 10 | y: 77\n",
      "x: 98 | y: 38\n",
      "x: 38 | y: 91\n",
      "x: 25 | y: 22\n",
      "x: 19 | y: 69\n",
      "x: 80 | y: 94\n",
      "x: 89 | y: 33\n",
      "x: 96 | y: 37\n",
      "x: 67 | y: 83\n",
      "x: 33 | y: 79\n",
      "x: 92 | y: 91\n",
      "x: 40 | y: 41\n",
      "x: 1 | y: 21\n",
      "x: 23 | y: 81\n",
      "x: 29 | y: 21\n",
      "x: 21 | y: 76\n",
      "x: 14 | y: 40\n",
      "x: 60 | y: 64\n",
      "x: 96 | y: 28\n",
      "x: 34 | y: 59\n",
      "x: 23 | y: 72\n",
      "x: 5 | y: 4\n",
      "s_product nvals: 128\n",
      "s_product bitlen: 32\n",
      "Online time is distributed as follows: \n",
      "Bool: local gates: 15.8380000000, interactive gates: 13.8130000000, layer finish: 7.3480000000\n",
      "Yao: local gates: 0.2530000000, interactive gates: 0.2460000000, layer finish: 0.0870000000\n",
      "Yao Rev: local gates: 0.2290000000, interactive gates: 0.2320000000, layer finish: 0.0900000000\n",
      "Arith: local gates: 0.2840000000, interactive gates: 0.2350000000, layer finish: 0.2210000000\n",
      "SPLUT: local gates: 0.2600000000, interactive gates: 0.2220000000, layer finish: 1.2630000000\n",
      "Communication: 65.8220000000\n",
      "\n",
      "Complexities: \n",
      "Boolean Sharing: ANDs: 1039177 (1-bit) ; Depth: 589\n",
      "Total Vec AND: 1039177\n",
      "Total Non-Vec AND: 1039177\n",
      "XOR vals: 3891143 gates: 98669\n",
      "Comb gates: 0, CombStruct gates: 0, Perm gates: 0, Subset gates: 12288, Split gates: 0\n",
      "Yao: ANDs: 0 ; Depth: 0\n",
      "Reverse Yao: ANDs: 0 ; Depth: 0\n",
      "Arithmetic Sharing: MULs: 0 ; Depth: 0\n",
      "SP-LUT Sharing: OT-gates: Total OT gates = 0; Depth: 1\n",
      "Total number of gates: 205521 Total depth: 589\n",
      "Timings: \n",
      "Total =\t\t321.2380000000 ms\n",
      "Init =\t\t0.1110000000 ms\n",
      "CircuitGen =\t0.1550000000 ms\n",
      "Network =\t1.8860000000 ms\n",
      "BaseOTs =\t338.5080000000 ms\n",
      "Setup =\t\t213.9780000000 ms\n",
      "OTExtension =\t212.8760000000 ms\n",
      "Garbling =\t0.0010000000 ms\n",
      "Online =\t107.2580000000 ms\n",
      "\n",
      "Communication: \n",
      "Total Sent / Rcv\t16969377  bytes / 16970401 bytes\n",
      "BaseOTs Sent / Rcv\t49956  bytes / 49956 bytes\n",
      "Setup Sent / Rcv\t16703706  bytes / 16703706 bytes\n",
      "OTExtension Sent / Rcv\t16703706  bytes / 16703706 bytes\n",
      "Garbling Sent / Rcv\t0  bytes / 0 bytes\n",
      "Online Sent / Rcv\t265671  bytes / 266695 bytes\n",
      "INPUT EMBEDDINGS:\n",
      "X:\n",
      "7, 96, 57, 69, 77, 91, 77, 99, 20, 10, 4, 70, 80, 50, 19, 78, 54, 37, 68, 88, 56, 7, 85, 1, 37, 90, 62, 24, 79, 7, 82, 55, 18, 98, 32, 38, 56, 34, 22, 77, 29, 79, 83, 47, 64, 51, 79, 72, 59, 79, 14, 99, 55, 47, 26, 25, 10, 8, 36, 33, 63, 31, 63, 40, 66, 39, 7, 12, 48, 58, 23, 14, 19, 70, 97, 41, 24, 19, 29, 19, 62, 37, 39, 19, 42, 27, 5, 10, 3, 40, 24, 42, 17, 44, 94, 22, 85, 13, 83, 67, 51, 70, 44, 3, 45, 77, 10, 98, 38, 25, 19, 80, 89, 96, 67, 33, 92, 40, 1, 23, 29, 21, 14, 60, 96, 34, 23, 5, \n",
      "Y:\n",
      "5, 71, 50, 79, 47, 57, 84, 53, 39, 93, 98, 53, 4, 94, 11, 49, 58, 31, 46, 67, 54, 86, 81, 49, 84, 7, 45, 14, 91, 29, 79, 11, 61, 11, 86, 18, 83, 50, 22, 42, 66, 69, 55, 92, 72, 15, 54, 69, 70, 56, 26, 63, 91, 71, 57, 68, 26, 33, 34, 42, 31, 9, 10, 84, 18, 69, 15, 73, 32, 42, 48, 14, 10, 3, 17, 90, 11, 47, 8, 44, 32, 45, 2, 22, 54, 15, 31, 24, 33, 23, 68, 98, 35, 40, 10, 7, 71, 48, 16, 58, 36, 4, 20, 15, 36, 43, 77, 38, 91, 22, 69, 94, 33, 37, 83, 79, 91, 41, 21, 81, 21, 76, 40, 64, 28, 59, 72, 4, \n",
      "SHARE:\n",
      "47, 8, 84, 85, 67, 50, 92, 33, 75, 92, 84, 76, 47, 51, 89, 63, 24, 54, 28, 61, 85, 53, 59, 78, 97, 19, 79, 1, 82, 23, 89, 73, 24, 96, 5, 48, 35, 56, 54, 99, 63, 86, 5, 24, 0, 98, 76, 31, 32, 90, 7, 6, 31, 60, 51, 47, 91, 56, 43, 68, 16, 83, 21, 14, 38, 2, 96, 23, 44, 97, 13, 39, 12, 99, 25, 68, 86, 79, 42, 82, 7, 8, 14, 52, 17, 94, 92, 83, 89, 47, 79, 28, 94, 51, 43, 88, 64, 33, 26, 69, 98, 61, 71, 33, 65, 36, 56, 69, 19, 53, 72, 10, 7, 12, 76, 44, 40, 58, 64, 8, 63, 32, 47, 1, 34, 83, 43, 29, \n",
      "\n",
      "VERIFICATION:\n",
      "x dot y: 290543.0000000000\n",
      "norm(x): 617.9417448271\n",
      "norm(y): 614.2092477324\n",
      "cos sim: 0.2344976458\n",
      "CIRCUIT RESULTS:\n",
      "x dot share: 0.0000000000\n",
      "norm(x) : 0.0000000000\n",
      "norm(share): 0.0000000000\n",
      "cos sim: 0.0000000000\n",
      "\n"
     ]
    }
   ],
   "source": [
    "# I discovered by accident that if the vectors are only 0s and 1s then the circuit works as expected...\n",
    "# see example\n",
    "\n",
    "# some arrays with only 0s or 1s\n",
    "x = rng.integers(0, 100, 128)\n",
    "y = rng.integers(0, 100, 128)\n",
    "r = rng.integers(0, 100, 128)\n",
    "\n",
    "# create the shares in the same way as before\n",
    "\n",
    "# y_1 is the server's share, simply the nonces\n",
    "y_1 = r\n",
    "\n",
    "# y_0 is the mb's share, it's the nonces XORed with y\n",
    "y_0 = np.bitwise_xor(y, r)\n",
    "\n",
    "output = run_sfe(x, y, y_0, y_1)\n",
    "\n",
    "print(output.stdout)"
   ]
  },
  {
   "cell_type": "code",
   "execution_count": 42,
   "metadata": {},
   "outputs": [
    {
     "data": {
      "text/plain": [
       "0.2344976457505803"
      ]
     },
     "execution_count": 42,
     "metadata": {},
     "output_type": "execute_result"
    }
   ],
   "source": [
    "get_cos_dist_numpy(x,y)"
   ]
  }
 ],
 "metadata": {
  "kernelspec": {
   "display_name": "Python 3 (ipykernel)",
   "language": "python",
   "name": "python3"
  },
  "language_info": {
   "codemirror_mode": {
    "name": "ipython",
    "version": 3
   },
   "file_extension": ".py",
   "mimetype": "text/x-python",
   "name": "python",
   "nbconvert_exporter": "python",
   "pygments_lexer": "ipython3",
   "version": "3.10.12"
  }
 },
 "nbformat": 4,
 "nbformat_minor": 2
}
