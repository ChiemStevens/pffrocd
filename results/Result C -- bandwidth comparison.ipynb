{
 "cells": [
  {
   "cell_type": "code",
   "execution_count": 1,
   "id": "ce8f51c6",
   "metadata": {},
   "outputs": [],
   "source": [
    "import os\n",
    "import json\n",
    "import pandas as pd"
   ]
  },
  {
   "cell_type": "code",
   "execution_count": 51,
   "id": "6a64bde6",
   "metadata": {},
   "outputs": [],
   "source": [
    "def read_lines(file_path, start_line, end_line):\n",
    "    with open(file_path, 'r') as file:\n",
    "        lines = file.readlines()\n",
    "        lines = lines[start_line:end_line]\n",
    "    return lines"
   ]
  },
  {
   "cell_type": "code",
   "execution_count": 50,
   "id": "9f3135f3",
   "metadata": {},
   "outputs": [
    {
     "data": {
      "text/plain": [
       "['2023-09-23 07:30:31,903 - DEBUG - pffrocd config: {\\n',\n",
       " '    \"client\": {\\n',\n",
       " '        \"ip_address\": \"192.168.5.115\",\\n',\n",
       " '        \"username\": \"kamil\",\\n',\n",
       " '        \"private_ssh_key_path\": \"/home/dietpi/.ssh/id_rsa\",\\n',\n",
       " '        \"executable_path\": \"/home/kamil/pffrocd/ABY/build/bin\",\\n',\n",
       " '        \"executable_name\": \"cos_dist_float_scen_simd\",\\n',\n",
       " '        \"pffrocd_path\": \"/home/kamil/pffrocd\"\\n',\n",
       " '    },\\n',\n",
       " '    \"server\": {\\n',\n",
       " '        \"ip_address\": \"192.168.5.114\",\\n',\n",
       " '        \"username\": \"kamil\",\\n',\n",
       " '        \"private_ssh_key_path\": \"/home/dietpi/.ssh/id_rsa\",\\n',\n",
       " '        \"executable_path\": \"/home/kamil/pffrocd/ABY/build/bin\",\\n',\n",
       " '        \"executable_name\": \"cos_dist_float_scen_simd\",\\n',\n",
       " '        \"pffrocd_path\": \"/home/kamil/pffrocd\"\\n',\n",
       " '    },\\n',\n",
       " '    \"misc\": {\\n',\n",
       " '        \"nr_of_people\": \"1500\",\\n',\n",
       " '        \"security_level\": \"80\",\\n',\n",
       " '        \"mt_algorithm\": \"0\",\\n',\n",
       " '        \"niceness\": \"-20\",\\n',\n",
       " '        \"starting_person\": \"100\",\\n',\n",
       " '        \"bit_length\": \"32\",\\n',\n",
       " '        \"gather_energy_data\": \"1\"\\n',\n",
       " '    }\\n',\n",
       " '}\\n']"
      ]
     },
     "execution_count": 50,
     "metadata": {},
     "output_type": "execute_result"
    }
   ],
   "source": [
    "def read_until_info(file_path):\n",
    "    out = []\n",
    "    with open(file_path, 'r') as file:\n",
    "        x = file.readline()\n",
    "        while not 'INFO'in x:\n",
    "            out.append(x)\n",
    "            x = file.readline()\n",
    "    return out\n",
    "\n",
    "read_until_info('../log/debug_2023-09-23_07-30-31.log')"
   ]
  },
  {
   "cell_type": "code",
   "execution_count": 52,
   "id": "f25f6d83",
   "metadata": {},
   "outputs": [],
   "source": [
    "def process_files_in_directory(directory_path, n, m, k):\n",
    "    result_dict = {}\n",
    "\n",
    "    # Iterate over files in the directory\n",
    "    for filename in os.listdir(directory_path):\n",
    "        file_path = os.path.join(directory_path, filename)\n",
    "\n",
    "        # Check if it's a file (not a directory)\n",
    "        if os.path.isfile(file_path):\n",
    "            # Check if the file has more than N rows\n",
    "            with open(file_path, 'r') as file:\n",
    "                line_count = sum(1 for _ in file)\n",
    "\n",
    "            if line_count > k:\n",
    "                # Read lines n to m from the file\n",
    "                lines = read_until_info(file_path)\n",
    "\n",
    "                # Store the lines in a JSON dictionary\n",
    "                result_dict[filename] = lines\n",
    "\n",
    "    return result_dict\n",
    "\n",
    "def remove_chars_after_last_bracket(input_string):\n",
    "    last_bracket_index = input_string.rfind('}')\n",
    "    \n",
    "    if last_bracket_index != -1:\n",
    "        return input_string[:last_bracket_index + 1]\n",
    "    else:\n",
    "        # If there are no closing curly brackets, return the original string\n",
    "        return input_string\n",
    "    \n",
    "import re\n",
    "\n",
    "def extract_bandwidth_from_log_file(log_file_path):\n",
    "\n",
    "    # Open the log file and iterate through its lines\n",
    "    with open(log_file_path, 'r') as log_file:\n",
    "        for line in log_file:\n",
    "            # Use a regular expression to match the \"Bandwidth:\" string and the float value\n",
    "            match = re.search(r\"Bandwidth: (\\d+\\.\\d+) Mbits/sec\", line)\n",
    "            if match:\n",
    "                bandwidth_str = match.group(1)\n",
    "                return(float(bandwidth_str))\n",
    "\n",
    "    return None"
   ]
  },
  {
   "cell_type": "code",
   "execution_count": null,
   "id": "bf631070",
   "metadata": {},
   "outputs": [],
   "source": []
  },
  {
   "cell_type": "code",
   "execution_count": 62,
   "id": "72ea9828",
   "metadata": {},
   "outputs": [
    {
     "name": "stdout",
     "output_type": "stream",
     "text": [
      "None\n",
      "None\n",
      "63.36\n",
      "71.4\n",
      "64.64\n",
      "68.03\n",
      "69.08\n"
     ]
    }
   ],
   "source": [
    "dicts = process_files_in_directory('../log/', 0, 26, 1000)\n",
    "\n",
    "for k in dicts:\n",
    "    s = ''.join(dicts[k])[50:]\n",
    "    d = json.loads(s)\n",
    "    if d['client']['ip_address'] == '192.168.5.115' and d['server']['ip_address'] == '192.168.5.114':\n",
    "        if d['misc']['security_level'] == '80' and d['misc']['mt_algorithm'] == '0' and d['misc']['bit_length'] == '32':\n",
    "            print(extract_bandwidth_from_log_file(f'../log/{k}'))"
   ]
  }
 ],
 "metadata": {
  "kernelspec": {
   "display_name": "Python 3 (ipykernel)",
   "language": "python",
   "name": "python3"
  },
  "language_info": {
   "codemirror_mode": {
    "name": "ipython",
    "version": 3
   },
   "file_extension": ".py",
   "mimetype": "text/x-python",
   "name": "python",
   "nbconvert_exporter": "python",
   "pygments_lexer": "ipython3",
   "version": "3.10.12"
  }
 },
 "nbformat": 4,
 "nbformat_minor": 5
}
