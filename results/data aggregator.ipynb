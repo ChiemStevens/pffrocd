{
 "cells": [
  {
   "cell_type": "code",
   "execution_count": 1,
   "id": "1ec6a1a0",
   "metadata": {},
   "outputs": [],
   "source": [
    "import pandas as pd\n",
    "from itertools import product\n",
    "\n",
    "# Configuration options\n",
    "testbeds = [\"2xL\", \"2xR\", \"1L1R\"]\n",
    "security_levels = [80, 112, 128]\n",
    "mt_algos = [\"OT\", \"Paillier\", \"DGK\"]\n",
    "bit_lengths = [\"64bit\", \"32bit\"]\n",
    "networks = [\"Wireless\", \"Wired\"]\n",
    "\n",
    "# Generate all permutations\n",
    "permutations = list(product(testbeds, security_levels, mt_algos, bit_lengths, networks))\n",
    "\n",
    "# Create empty sets with descriptive names for each permutation\n",
    "sets = {}\n",
    "\n",
    "for perm in permutations:\n",
    "    # Generate a descriptive name based on the permutation\n",
    "    name = f\"{perm[0]}_{perm[1]}_{perm[2]}_{perm[3]}_{perm[4]}\"\n",
    "    \n",
    "    # Create an empty set and df with the generated name\n",
    "    sets[f\"{name}\"] = set()"
   ]
  },
  {
   "cell_type": "code",
   "execution_count": 2,
   "id": "8a15190d",
   "metadata": {},
   "outputs": [
    {
     "name": "stdout",
     "output_type": "stream",
     "text": [
      "     23 ./2023-08-11_16-11-25.csv\r\n",
      "     17 ./2023-08-11_17-50-24.csv\r\n",
      "     17 ./2023-08-11_18-08-52.csv\r\n",
      "     17 ./2023-08-11_18-27-31.csv\r\n",
      "     17 ./2023-08-11_18-46-04.csv\r\n",
      "     17 ./2023-08-11_19-05-19.csv\r\n",
      "     17 ./2023-08-11_19-25-15.csv\r\n",
      "     17 ./2023-08-11_19-44-36.csv\r\n",
      "     17 ./2023-08-12_00-45-56.csv\r\n",
      "     17 ./2023-08-12_01-14-04.csv\r\n",
      "     17 ./2023-08-12_01-41-54.csv\r\n",
      "     17 ./2023-08-12_08-58-20.csv\r\n",
      "     17 ./2023-08-12_09-56-48.csv\r\n",
      "     17 ./2023-08-12_10-27-23.csv\r\n",
      "     17 ./2023-08-12_11-00-42.csv\r\n",
      "     17 ./2023-08-12_11-40-56.csv\r\n",
      "     17 ./2023-08-12_12-58-09.csv\r\n",
      "     17 ./2023-08-12_14-00-23.csv\r\n",
      "     17 ./2023-08-12_16-45-07.csv\r\n",
      "     90 ./2023-08-12_18-46-07.csv\r\n",
      "     75 ./2023-08-13_10-51-25.csv\r\n",
      "    569 ./2023-08-13_17-00-40.csv\r\n",
      "    105 ./2023-08-14_16-43-25.csv\r\n",
      "     17 ./2023-08-18_11-50-48.csv\r\n",
      "    199 ./2023-08-18_14-58-28.csv\r\n",
      "     17 ./2023-08-18_20-03-07.csv\r\n",
      "     73 ./2023-08-19_10-43-49.csv\r\n",
      "   1719 ./2023-08-20_22-02-32.csv\r\n",
      "     47 ./2023-08-22_19-36-38.csv\r\n",
      "    739 ./2023-08-23_14-14-16.csv\r\n",
      "    535 ./2023-08-24_21-08-56.csv\r\n",
      "     45 ./2023-09-03_15-21-22.csv\r\n",
      "     27 ./2023-09-03_20-50-21.csv\r\n",
      "    322 ./2023-09-03_22-30-25.csv\r\n",
      "     26 ./2023-09-04_15-17-45.csv\r\n",
      "     43 ./2023-09-05_02-58-18.csv\r\n",
      "     25 ./2023-09-09_17-33-46.csv\r\n",
      "    503 ./2023-09-10_16-59-26.csv\r\n",
      "    522 ./2023-09-10_23-40-22.csv\r\n",
      "     21 ./2023-09-11_10-47-32.csv\r\n",
      "     26 ./2023-09-11_12-19-37.csv\r\n",
      "   6213 total\r\n"
     ]
    }
   ],
   "source": [
    "# list dfs that have more than n rows\n",
    "!cd ../dfs/ && find . -type f | sort | xargs wc -l | awk '$1 > 16'"
   ]
  },
  {
   "cell_type": "code",
   "execution_count": 3,
   "id": "c86e08c3",
   "metadata": {},
   "outputs": [
    {
     "name": "stdout",
     "output_type": "stream",
     "text": [
      "2023-09-11 12:19:37,716 - DEBUG - pffrocd config: {\n",
      "    \"client\": {\n",
      "        \"ip_address\": \"192.168.5.111\",\n",
      "        \"username\": \"kamil\",\n",
      "        \"private_ssh_key_path\": \"/home/dietpi/.ssh/id_rsa\",\n",
      "        \"executable_path\": \"/home/kamil/pffrocd/ABY/build/bin\",\n",
      "        \"executable_name\": \"cos_dist_float_scen_simd\",\n",
      "        \"pffrocd_path\": \"/home/kamil/pffrocd\"\n",
      "    },\n",
      "    \"server\": {\n",
      "        \"ip_address\": \"192.168.5.112\",\n",
      "        \"username\": \"kamil\",\n",
      "        \"private_ssh_key_path\": \"/home/dietpi/.ssh/id_rsa\",\n",
      "        \"executable_path\": \"/home/kamil/pffrocd/ABY/build/bin\",\n",
      "        \"executable_name\": \"cos_dist_float_scen_simd\",\n",
      "        \"pffrocd_path\": \"/home/kamil/pffrocd\"\n",
      "    },\n",
      "    \"misc\": {\n",
      "        \"nr_of_people\": \"1500\",\n",
      "        \"security_level\": \"80\",\n",
      "        \"mt_algorithm\": \"0\",\n",
      "        \"niceness\": \"-20\",\n",
      "        \"starting_person\": \"20\",\n",
      "        \"bit_length\": \"32\"\n",
      "    }\n",
      "\n",
      "SFE TIME STATISTICS\n",
      "count    25.000000\n",
      "mean     59.648939\n",
      "std       3.143665\n",
      "min      56.149388\n",
      "25%      58.102145\n",
      "50%      59.044514\n",
      "75%      60.109524\n",
      "max      70.258009\n",
      "Name: sfe_time, dtype: float64\n"
     ]
    },
    {
     "data": {
      "text/plain": [
       "<Axes: >"
      ]
     },
     "execution_count": 3,
     "metadata": {},
     "output_type": "execute_result"
    },
    {
     "data": {
      "image/png": "[encoded data removed]",
      "text/plain": [
       "<Figure size 640x480 with 1 Axes>"
      ]
     },
     "metadata": {},
     "output_type": "display_data"
    }
   ],
   "source": [
    "# inspect configuration of a given dfs\n",
    "NAME = '2023-09-11_12-19-37'\n",
    "\n",
    "with open(f\"../log/debug_{NAME}.log\") as input_file:\n",
    "    head = [next(input_file) for _ in range(25)]\n",
    "print(''.join(head))\n",
    "\n",
    "df_inspecting = pd.read_csv(f\"../dfs/{NAME}.csv\")\n",
    "print(\"SFE TIME STATISTICS\")\n",
    "print(df_inspecting['sfe_time'].describe())\n",
    "(df_inspecting['timings.total'] / 1000).plot()"
   ]
  },
  {
   "cell_type": "code",
   "execution_count": 4,
   "id": "37fdfe78",
   "metadata": {},
   "outputs": [],
   "source": [
    "# add good data to appropriate sets\n",
    "\n",
    "sets['2xL_112_OT_64bit_Wired'].add('2023-08-20_22-02-32')\n",
    "sets['2xL_112_OT_32bit_Wireless'].add('2023-09-05_02-58-18')\n",
    "sets['2xL_112_OT_64bit_Wireless'].add('2023-08-23_14-14-16')\n",
    "sets['2xL_112_OT_32bit_Wireless'].add('2023-09-03_15-21-22')\n",
    "sets['2xL_80_OT_32bit_Wired'].add('2023-09-10_16-59-26')\n",
    "sets['2xL_80_OT_32bit_Wireless'].add('2023-09-10_23-40-22')\n",
    "\n",
    "sets['2xR_80_OT_64bit_Wired'].add('2023-08-11_17-50-24')\n",
    "sets['2xR_80_Paillier_64bit_Wired'].add('2023-08-11_18-08-52')\n",
    "sets['2xR_80_DGK_64bit_Wired'].add('2023-08-11_18-27-31')\n",
    "sets['2xR_112_OT_64bit_Wired'].add('2023-08-11_18-46-04')\n",
    "sets['2xR_112_Paillier_64bit_Wired'].add('2023-08-11_19-05-19')\n",
    "sets['2xR_112_DGK_64bit_Wired'].add('2023-08-11_19-25-15')\n",
    "sets['2xR_128_OT_64bit_Wired'].add('2023-08-11_19-44-36')\n",
    "sets['2xR_128_Paillier_64bit_Wired'].add('2023-08-12_15-22-06')\n",
    "sets['2xR_128_DGK_64bit_Wired'].add('2023-08-12_16-45-07')\n",
    "\n",
    "sets['2xR_80_OT_64bit_Wireless'].add('2023-08-12_00-45-56')\n",
    "sets['2xR_80_Paillier_64bit_Wireless'].add('2023-08-12_01-14-04')\n",
    "sets['2xR_80_DGK_64bit_Wireless'].add('2023-08-12_01-41-54')\n",
    "sets['2xR_112_OT_64bit_Wireless'].add('2023-08-12_12-58-09')\n",
    "sets['2xR_112_Paillier_64bit_Wireless'].add('2023-08-12_14-00-23')\n",
    "sets['2xR_112_DGK_64bit_Wireless'].add('2023-08-12_09-56-48')\n",
    "sets['2xR_128_OT_64bit_Wireless'].add('2023-08-12_10-27-23')\n",
    "sets['2xR_128_Paillier_64bit_Wireless'].add('2023-08-12_11-00-42')\n",
    "sets['2xR_128_DGK_64bit_Wireless'].add('2023-08-12_11-40-56')\n",
    "\n",
    "sets['2xL_80_OT_32bit_Wired'].add('2023-09-09_17-33-46')\n",
    "sets['2xL_80_OT_32bit_Wireless'].add('2023-09-11_10-47-32')\n",
    "sets['2xL_80_OT_32bit_Wireless'].add('2023-09-11_12-19-37')\n"
   ]
  },
  {
   "cell_type": "code",
   "execution_count": 5,
   "id": "acb152f3",
   "metadata": {},
   "outputs": [],
   "source": [
    "# create dfs from the gathered csvs\n",
    "\n",
    "dfs = {}\n",
    "for k in sets.keys():\n",
    "    if not sets[k]:\n",
    "        continue\n",
    "    dfs[k] = pd.concat((pd.read_csv(f\"../dfs/{f}.csv\") for f in sets[k]), ignore_index=True)"
   ]
  },
  {
   "cell_type": "code",
   "execution_count": 6,
   "id": "b8f7dc7d",
   "metadata": {},
   "outputs": [
    {
     "name": "stdout",
     "output_type": "stream",
     "text": [
      "2xL_80_OT_32bit_Wireless: 566\n",
      "2xL_80_OT_32bit_Wired: 526\n",
      "2xL_112_OT_64bit_Wireless: 738\n",
      "2xL_112_OT_64bit_Wired: 1718\n",
      "2xL_112_OT_32bit_Wireless: 86\n",
      "2xR_80_OT_64bit_Wireless: 16\n",
      "2xR_80_OT_64bit_Wired: 16\n",
      "2xR_80_Paillier_64bit_Wireless: 16\n",
      "2xR_80_Paillier_64bit_Wired: 16\n",
      "2xR_80_DGK_64bit_Wireless: 16\n",
      "2xR_80_DGK_64bit_Wired: 16\n",
      "2xR_112_OT_64bit_Wireless: 16\n",
      "2xR_112_OT_64bit_Wired: 16\n",
      "2xR_112_Paillier_64bit_Wireless: 16\n",
      "2xR_112_Paillier_64bit_Wired: 16\n",
      "2xR_112_DGK_64bit_Wireless: 16\n",
      "2xR_112_DGK_64bit_Wired: 16\n",
      "2xR_128_OT_64bit_Wireless: 16\n",
      "2xR_128_OT_64bit_Wired: 16\n",
      "2xR_128_Paillier_64bit_Wireless: 16\n",
      "2xR_128_Paillier_64bit_Wired: 6\n",
      "2xR_128_DGK_64bit_Wireless: 16\n",
      "2xR_128_DGK_64bit_Wired: 16\n",
      "total: 3912\n"
     ]
    }
   ],
   "source": [
    "# print how many tests for each config\n",
    "tot = 0\n",
    "for k in dfs:\n",
    "    print(f\"{k}: {len(dfs[k])}\")\n",
    "    tot+=len(dfs[k])\n",
    "print(f\"total: {tot}\")"
   ]
  },
  {
   "cell_type": "code",
   "execution_count": 7,
   "id": "392f43f1",
   "metadata": {},
   "outputs": [],
   "source": [
    "# dave the dataframes\n",
    "\n",
    "for k in dfs:\n",
    "    dfs[k].to_csv(f\"{k}.csv\")"
   ]
  }
 ],
 "metadata": {
  "kernelspec": {
   "display_name": "Python 3 (ipykernel)",
   "language": "python",
   "name": "python3"
  },
  "language_info": {
   "codemirror_mode": {
    "name": "ipython",
    "version": 3
   },
   "file_extension": ".py",
   "mimetype": "text/x-python",
   "name": "python",
   "nbconvert_exporter": "python",
   "pygments_lexer": "ipython3",
   "version": "3.10.12"
  }
 },
 "nbformat": 4,
 "nbformat_minor": 5
}
