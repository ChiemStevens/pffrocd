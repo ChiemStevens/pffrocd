{
 "cells": [
  {
   "cell_type": "code",
   "execution_count": 3,
   "id": "d089f9e6",
   "metadata": {},
   "outputs": [],
   "source": [
    "import pandas as pd"
   ]
  },
  {
   "cell_type": "code",
   "execution_count": 4,
   "id": "2616b516",
   "metadata": {},
   "outputs": [],
   "source": [
    "df = pd.read_csv(\"../dfs/2024-06-19_14-45-25.csv\")"
   ]
  },
  {
   "cell_type": "code",
   "execution_count": 5,
   "id": "6a17a5cb",
   "metadata": {},
   "outputs": [
    {
     "data": {
      "text/plain": [
       "count    3.000000\n",
       "mean     9.844626\n",
       "std      0.105371\n",
       "min      9.737959\n",
       "25%      9.792612\n",
       "50%      9.847265\n",
       "75%      9.897959\n",
       "max      9.948652\n",
       "Name: energy_client, dtype: float64"
      ]
     },
     "execution_count": 5,
     "metadata": {},
     "output_type": "execute_result"
    }
   ],
   "source": [
    "df['energy_client'].describe()"
   ]
  }
 ],
 "metadata": {
  "kernelspec": {
   "display_name": "Python 3 (ipykernel)",
   "language": "python",
   "name": "python3"
  },
  "language_info": {
   "codemirror_mode": {
    "name": "ipython",
    "version": 3
   },
   "file_extension": ".py",
   "mimetype": "text/x-python",
   "name": "python",
   "nbconvert_exporter": "python",
   "pygments_lexer": "ipython3",
   "version": "3.11.9"
  }
 },
 "nbformat": 4,
 "nbformat_minor": 5
}
