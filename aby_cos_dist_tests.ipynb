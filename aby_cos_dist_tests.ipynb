{
 "cells": [
  {
   "cell_type": "code",
   "execution_count": 1,
   "metadata": {},
   "outputs": [],
   "source": [
    "import os\n",
    "os.environ['TF_CPP_MIN_LOG_LEVEL'] = '3' # suppress tensorflow warnings https://stackoverflow.com/a/40871012\n",
    "from deepface import DeepFace\n",
    "import subprocess\n",
    "import numpy as np\n",
    "from decimal import Decimal # for proper rounding\n",
    "import random\n",
    "import time\n",
    "import pandas as pd\n",
    "from datetime import datetime\n",
    "import struct\n",
    "\n",
    "\n",
    "# CONSTANTS\n",
    "EXECUTABLE_PATH = \"ABY/build/bin\"\n",
    "INPUT_FILE_NAME = \"input_vecs.txt\"\n",
    "OUTPUT_FILE_NAME = \"output.txt\"\n",
    "EXECUTABLE_NAME = 'cos_sim_simd_test'\n",
    "CMD = f\"./{EXECUTABLE_NAME} -r 0 -f {INPUT_FILE_NAME} -o {OUTPUT_FILE_NAME} & (./{EXECUTABLE_NAME} -r 1 -f {INPUT_FILE_NAME} 2>&1 > /dev/null)\"\n",
    "ITERATIONS = 1"
   ]
  },
  {
   "cell_type": "code",
   "execution_count": 2,
   "metadata": {},
   "outputs": [],
   "source": [
    "def get_cos_dist_aby(x, y):\n",
    "    # write two vectors to a file\n",
    "    with open(f\"{EXECUTABLE_PATH}/{INPUT_FILE_NAME}\", 'w') as f:\n",
    "        for x_i, y_i in zip(x, y):\n",
    "            f.write(f\"{x_i} {y_i}\\n\")\n",
    "    \n",
    "    # execute the ABY cos sim computation\n",
    "    start = time.time()\n",
    "    output = subprocess.run(CMD, shell=True, capture_output=True, text=True, cwd=EXECUTABLE_PATH)\n",
    "    end = time.time()\n",
    "    assert (output.returncode == 0) # make sure the process executed successfully\n",
    "    \n",
    "    # read the result from the output file\n",
    "    with open(f\"{EXECUTABLE_PATH}/{OUTPUT_FILE_NAME}\") as f:\n",
    "        return float(round(Decimal(str(f.read())),6)), end-start\n",
    "    \n",
    "def get_cos_dist_numpy(x, y):\n",
    "    start = time.time()\n",
    "    result = 1 - np.dot(x, y)/(np.linalg.norm(x)*np.linalg.norm(y))\n",
    "    end = time.time()\n",
    "    # print(result)\n",
    "    # do some magic of casting to str then Decimal then float to round properly\n",
    "    result = float(round(Decimal(str(result)),6))\n",
    "    return result, end-start\n",
    "\n",
    "def get_cos_dist_deepface(img1, img2):\n",
    "    result = DeepFace.verify(img1_path = img1, img2_path = img2, model_name=\"SFace\", enforce_detection=True, distance_metric=\"cosine\")[\"distance\"]\n",
    "    return float(round(Decimal(str(result)),6))\n",
    "\n",
    "def round_to_6(x):\n",
    "    return float(round(Decimal(str(x)),6))\n",
    "\n",
    "def get_embedding(imagepath):\n",
    "    return DeepFace.represent(img_path = imagepath, model_name=\"SFace\", enforce_detection=True)[0][\"embedding\"]\n",
    "\n",
    "def get_two_random_images_and_their_embeddings(same_person):\n",
    "    people = os.listdir('lfw') # list of all people that have images\n",
    "    people_with_multiple_images = [p for p in people if len(os.listdir(f\"lfw/{p}\")) > 1] # list of people with more than one image in folder\n",
    "    embedding1, embedding2 = None, None # face embeddings\n",
    "    while embedding1 is None or embedding2 is None: # try until the chosen images have detectable faces\n",
    "        try:\n",
    "            if same_person:\n",
    "                # same person should have more than one image (we might still end up choosing the same image of that person with prob 1/n, but that's ok)\n",
    "                person1 = random.choice(people_with_multiple_images)\n",
    "                person2 = person1\n",
    "            else:\n",
    "                # two persons chosen should be different\n",
    "                person1 = random.choice(people)\n",
    "                person2 = random.choice([p for p in people if p != person1])\n",
    "            # get two random images\n",
    "            img1 = f\"lfw/{person1}/{random.choice(os.listdir(f'lfw/{person1}'))}\"\n",
    "            img2 = f\"lfw/{person2}/{random.choice(os.listdir(f'lfw/{person2}'))}\"\n",
    "            # try to extract embeddings from both images\n",
    "            embedding1 = get_embedding(img1)\n",
    "            embedding2 = get_embedding(img2)\n",
    "        except Exception as e:\n",
    "            # failed to detect faces in images, try again\n",
    "            # print(e)\n",
    "            pass\n",
    "    return img1, embedding1, img2, embedding2\n",
    "\n",
    "def verify_computation(same_person):\n",
    "    # get two random images\n",
    "    img1, img2 = get_two_random_images(same_person)\n",
    "    print(f\"{img1=}, {img2=}\")\n",
    "    # extract embeddings, disregard pictures where the face cannot be detected\n",
    "    try:\n",
    "        x = get_embedding(f\"lfw/{img1}\")\n",
    "        y = get_embedding(f\"lfw/{img2}\")\n",
    "    except ValueError as e:\n",
    "        print(e)\n",
    "        return 0\n",
    "    except Exception as e:\n",
    "        # print(e)\n",
    "        return 0\n",
    "    # print(f\"{x=}, {y=}\")\n",
    "    # compute the cosine similarity\n",
    "    cs = cos_sim(x,y)\n",
    "    cs_aby = cos_sim_aby(x,y)\n",
    "    cs_deepface = cos_dist_deepface(img1, img2)\n",
    "    print(f\"{cs=}, {cs_aby=}, {cs_deepface=}\")\n",
    "    print(\"----------\")\n",
    "    # make sure the results are the same\n",
    "    assert (cs == cs_aby == cs_deepface)\n",
    "\n",
    "def run_verification(same_person):\n",
    "    # get two images and their embeddings to compare\n",
    "    img1, emb1, img2, emb2 = get_two_random_images_and_their_embeddings(same_person)\n",
    "    # compute the cos dist with numpy and ABY (with timings)\n",
    "    cos_dist_numpy, time_numpy = get_cos_dist_numpy(emb1, emb2)\n",
    "    cos_dist_aby, time_aby = get_cos_dist_aby(emb1, emb2)\n",
    "    result = DeepFace.verify(img1_path = img1, img2_path = img2, model_name=\"SFace\", enforce_detection=True, distance_metric=\"cosine\")\n",
    "    cos_dist_df = round_to_6(result[\"distance\"])\n",
    "    threshold = result[\"threshold\"]\n",
    "    # verify the results are the same (sanity check against the deepface module in case both numpy and aby are wrong)\n",
    "    # assert (cos_dist_numpy == cos_dist_aby == cos_dist_df), f\"{cos_dist_numpy} == {cos_dist_aby} == {cos_dist_df}\"\n",
    "    aby_ver = cos_dist_aby < threshold\n",
    "    # put the results in a dataframe according to the scheme in the notebook\n",
    "    return [same_person,result[\"verified\"],aby_ver,cos_dist_numpy,cos_dist_aby,threshold,img1,img2,time_numpy,time_aby]\n",
    "\n",
    "def fxor(a, b):\n",
    "    rtrn = []\n",
    "    a = struct.pack('d', a)\n",
    "    b = struct.pack('d', b)\n",
    "    for ba, bb in zip(a, b):\n",
    "        rtrn.append(ba ^ bb)\n",
    "    return struct.unpack('d', bytes(rtrn))[0]\n",
    "\n",
    "def fxor_list(a, b):\n",
    "    assert len(a) == len(b)\n",
    "    rtrn = []\n",
    "    for i in range(len(a)):\n",
    "        rtrn.append(fxor(a[i], b[i]))\n",
    "    return rtrn\n"
   ]
  },
  {
   "cell_type": "code",
   "execution_count": 3,
   "metadata": {},
   "outputs": [
    {
     "data": {
      "text/plain": [
       "(1.019979, 5.086735725402832)"
      ]
     },
     "execution_count": 3,
     "metadata": {},
     "output_type": "execute_result"
    }
   ],
   "source": [
    "img1, x, img2, y = get_two_random_images_and_their_embeddings(False)\n",
    "get_cos_dist_aby(x, y)"
   ]
  },
  {
   "cell_type": "code",
   "execution_count": 4,
   "metadata": {},
   "outputs": [
    {
     "name": "stdout",
     "output_type": "stream",
     "text": [
      "0\n"
     ]
    }
   ],
   "source": [
    "df = pd.DataFrame(columns=['real_ver','df_ver','aby_ver','df_dist','aby_dist','threshold','img1','img2', 'np_time', 'aby_time'])\n",
    "dt_string = datetime.now().strftime(\"%d_%m_%Y_%H_%M_%S\")\n",
    "for _ in range(ITERATIONS):\n",
    "    # append results of a run with the same person\n",
    "    df.loc[len(df)] = run_verification(True)\n",
    "    # run with different people\n",
    "    df.loc[len(df)] = run_verification(False)\n",
    "    df.to_csv(f\"df_{dt_string}_{ITERATIONS=}\")\n",
    "    print(_)\n"
   ]
  },
  {
   "cell_type": "code",
   "execution_count": 5,
   "metadata": {},
   "outputs": [
    {
     "data": {
      "text/html": [
       "<div>\n",
       "<style scoped>\n",
       "    .dataframe tbody tr th:only-of-type {\n",
       "        vertical-align: middle;\n",
       "    }\n",
       "\n",
       "    .dataframe tbody tr th {\n",
       "        vertical-align: top;\n",
       "    }\n",
       "\n",
       "    .dataframe thead th {\n",
       "        text-align: right;\n",
       "    }\n",
       "</style>\n",
       "<table border=\"1\" class=\"dataframe\">\n",
       "  <thead>\n",
       "    <tr style=\"text-align: right;\">\n",
       "      <th></th>\n",
       "      <th>real_ver</th>\n",
       "      <th>df_ver</th>\n",
       "      <th>aby_ver</th>\n",
       "      <th>df_dist</th>\n",
       "      <th>aby_dist</th>\n",
       "      <th>threshold</th>\n",
       "      <th>img1</th>\n",
       "      <th>img2</th>\n",
       "      <th>np_time</th>\n",
       "      <th>aby_time</th>\n",
       "    </tr>\n",
       "  </thead>\n",
       "  <tbody>\n",
       "    <tr>\n",
       "      <th>0</th>\n",
       "      <td>True</td>\n",
       "      <td>True</td>\n",
       "      <td>True</td>\n",
       "      <td>0.291786</td>\n",
       "      <td>0.291786</td>\n",
       "      <td>0.593</td>\n",
       "      <td>lfw/Richard_Norton-Taylor/Richard_Norton-Taylo...</td>\n",
       "      <td>lfw/Richard_Norton-Taylor/Richard_Norton-Taylo...</td>\n",
       "      <td>0.000263</td>\n",
       "      <td>5.060364</td>\n",
       "    </tr>\n",
       "    <tr>\n",
       "      <th>1</th>\n",
       "      <td>False</td>\n",
       "      <td>False</td>\n",
       "      <td>False</td>\n",
       "      <td>0.832571</td>\n",
       "      <td>0.832571</td>\n",
       "      <td>0.593</td>\n",
       "      <td>lfw/Steve_Mariucci/Steve_Mariucci_0003.jpg</td>\n",
       "      <td>lfw/Jennie_Garth/Jennie_Garth_0001.jpg</td>\n",
       "      <td>0.000205</td>\n",
       "      <td>4.493353</td>\n",
       "    </tr>\n",
       "  </tbody>\n",
       "</table>\n",
       "</div>"
      ],
      "text/plain": [
       "   real_ver  df_ver  aby_ver   df_dist  aby_dist  threshold  \\\n",
       "0      True    True     True  0.291786  0.291786      0.593   \n",
       "1     False   False    False  0.832571  0.832571      0.593   \n",
       "\n",
       "                                                img1  \\\n",
       "0  lfw/Richard_Norton-Taylor/Richard_Norton-Taylo...   \n",
       "1         lfw/Steve_Mariucci/Steve_Mariucci_0003.jpg   \n",
       "\n",
       "                                                img2   np_time  aby_time  \n",
       "0  lfw/Richard_Norton-Taylor/Richard_Norton-Taylo...  0.000263  5.060364  \n",
       "1             lfw/Jennie_Garth/Jennie_Garth_0001.jpg  0.000205  4.493353  "
      ]
     },
     "execution_count": 5,
     "metadata": {},
     "output_type": "execute_result"
    }
   ],
   "source": [
    "df"
   ]
  },
  {
   "cell_type": "code",
   "execution_count": 6,
   "metadata": {},
   "outputs": [],
   "source": [
    "# Simulation of the protocol in plaintext\n",
    "\n",
    "# y is the base image that should be distributed between Drone and MB, x is the current face captured\n",
    "\n",
    "img1, x, img2, y = get_two_random_images_and_their_embeddings(False)\n",
    "\n",
    "# split y into two shares\n",
    "\n",
    "# create a vector of random nonces\n",
    "r = [random.uniform(-2.0, 2.0) for _ in range(128)]\n",
    "# y1 is the nonces\n",
    "y1 = r.copy()\n",
    "# y0 is y XOR random nonces\n",
    "y0 = fxor_list(y, r)\n"
   ]
  },
  {
   "cell_type": "code",
   "execution_count": null,
   "metadata": {},
   "outputs": [],
   "source": [
    "def cos_dist_np_temp(x, y):\n",
    "    result = 1 - np.dot(x, y)/(np.linalg.norm(x)*np.linalg.norm(y))\n",
    "    return result"
   ]
  },
  {
   "cell_type": "code",
   "execution_count": null,
   "metadata": {},
   "outputs": [],
   "source": [
    "print(get_cos_dist_numpy(x, y))"
   ]
  },
  {
   "cell_type": "code",
   "execution_count": null,
   "metadata": {},
   "outputs": [],
   "source": [
    "cos_dist_x_y0 = 1 - np.dot(x, y0)/(np.linalg.norm(x)*np.linalg.norm(y0))\n",
    "cos_dist_x_y0"
   ]
  },
  {
   "cell_type": "code",
   "execution_count": null,
   "metadata": {},
   "outputs": [],
   "source": [
    "r"
   ]
  },
  {
   "cell_type": "code",
   "execution_count": null,
   "metadata": {},
   "outputs": [],
   "source": [
    "xor = lambda x,y:(x.view(\"int64\")^y.view(\"int64\")).view(\"float64\")\n",
    "print(xor(np.array(r),np.array(y)))"
   ]
  },
  {
   "cell_type": "code",
   "execution_count": null,
   "metadata": {},
   "outputs": [],
   "source": [
    "# Simulation of the protocol in plaintext on ints\n",
    "\n",
    "# y is the base image that should be distributed between Drone and MB, f is the current face captured\n",
    "\n",
    "# Generate two random fake int embeddings\n",
    "f = np.random.randint(-100,100,128)\n",
    "y = np.random.randint(-100,100,128)\n",
    "\n",
    "# split y into share\n",
    "\n",
    "# y1 is the nonces\n",
    "y1 = np.random.randint(-100,100,128)\n",
    "# y0 is y XOR y1\n",
    "y0 = np.bitwise_xor(y, y1)\n",
    "\n",
    "# sanity check\n",
    "y == np.bitwise_xor(y0, y1)"
   ]
  },
  {
   "cell_type": "code",
   "execution_count": null,
   "metadata": {},
   "outputs": [],
   "source": [
    "# Drone computes distance between f and y1\n",
    "drone_dist, t = get_cos_dist_numpy(f, y1)\n",
    "# MD computes distance between f and y0\n",
    "md_dist, t = get_cos_dist_numpy(f, y0)\n",
    "drone_dist, md_dist, fxor(drone_dist, md_dist), get_cos_dist_numpy(f, y)"
   ]
  },
  {
   "cell_type": "code",
   "execution_count": null,
   "metadata": {},
   "outputs": [],
   "source": [
    "def fxor(a, b):\n",
    "    \"\"\"\n",
    "    Take two floats and xor their individual bits. Return the created float.\n",
    "    \"\"\"\n",
    "    rtrn = []\n",
    "    a = struct.pack('d', a)\n",
    "    b = struct.pack('d', b)\n",
    "    for ba, bb in zip(a, b):\n",
    "        rtrn.append(ba ^ bb)\n",
    "    return struct.unpack('d', bytes(rtrn))[0]\n",
    "\n",
    "# another way of xoring individual bit of floats using numpy\n",
    "fxor_np = lambda x,y:(x.view(\"int64\")^y.view(\"int64\")).view(\"float64\")\n",
    "\n",
    "# just so I get it, a very simplified scenario\n",
    "\n",
    "x = 4 # captured face\n",
    "y = 5 # base image\n",
    "r = 6 # 'random' nonce\n",
    "y1 = r # one share is the nonce\n",
    "y0 = y ^ r # second share is y xor r\n",
    "# take an operation (multiplying) that results in ints as well\n",
    "a = y1*x\n",
    "b = y0*x\n",
    "print(f\"This works, {a=}, {b=}, x*y == {x*y}, a^b == {a^b}\")\n",
    "# if intermediate results are floats (say we wanted to compute y/x), then xoring does not make sense\n",
    "a = y1/x\n",
    "b = y0/x\n",
    "print(f\"Now {a=} and {b=}, and y/x = {y/x}\")\n",
    "print(f\"xoring floats does not make sense: {fxor(a,b)}\")\n",
    "# a^b gives \" unsupported operand type(s) for ^: 'float' and 'float' \"\n"
   ]
  },
  {
   "cell_type": "code",
   "execution_count": null,
   "metadata": {},
   "outputs": [],
   "source": [
    "# this makes sense beacuse we are using ints\n",
    "a = 4\n",
    "b = 5\n",
    "c = a^b\n",
    "print(f\"{c=}, c^a={c^a}, c^b={c^b}\")\n",
    "print((c+5)^a)"
   ]
  },
  {
   "cell_type": "code",
   "execution_count": null,
   "metadata": {},
   "outputs": [],
   "source": [
    "# this does not makes sense, c becomes garbage and thus operations on it do not make sense\n",
    "a = 0.4\n",
    "b = 0.5\n",
    "c = fxor(a, b)\n",
    "# I can still xor it back to get the original value\n",
    "print(f\"{c=}, f3^a ={fxor(c,a)}, f3^b = {fxor(c,b)}\")\n",
    "print(fxor(c+2,a))"
   ]
  }
 ],
 "metadata": {
  "kernelspec": {
   "display_name": "Python 3 (ipykernel)",
   "language": "python",
   "name": "python3"
  },
  "language_info": {
   "codemirror_mode": {
    "name": "ipython",
    "version": 3
   },
   "file_extension": ".py",
   "mimetype": "text/x-python",
   "name": "python",
   "nbconvert_exporter": "python",
   "pygments_lexer": "ipython3",
   "version": "3.10.6"
  }
 },
 "nbformat": 4,
 "nbformat_minor": 2
}
